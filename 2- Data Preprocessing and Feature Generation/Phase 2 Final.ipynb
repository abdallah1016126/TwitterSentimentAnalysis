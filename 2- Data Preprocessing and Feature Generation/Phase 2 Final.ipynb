{
 "cells": [
  {
   "cell_type": "code",
   "execution_count": 1,
   "id": "edd3c3d8",
   "metadata": {},
   "outputs": [],
   "source": [
    "# imports\n",
    "import numpy as np\n",
    "import pandas as pd\n",
    "import matplotlib.pyplot as plt\n",
    "import seaborn as sns\n",
    "import nltk\n",
    "import re\n",
    "import contractions\n",
    "import unidecode\n",
    "# To plot visualizations inline with the notebook\n",
    "%matplotlib inline"
   ]
  },
  {
   "cell_type": "code",
   "execution_count": 2,
   "id": "0ed77770",
   "metadata": {},
   "outputs": [],
   "source": [
    "#read data\n",
    "df= pd.read_csv('trainingandtestdata/training.1600000.processed.noemoticon.csv', names=['polarity', 'id', 'date', 'query',\n",
    "                                                                                        'userName', 'text'])"
   ]
  },
  {
   "cell_type": "markdown",
   "id": "ef67ce49",
   "metadata": {},
   "source": [
    "# Analysis"
   ]
  },
  {
   "cell_type": "code",
   "execution_count": 3,
   "id": "dd8aafc0",
   "metadata": {
    "scrolled": true
   },
   "outputs": [
    {
     "data": {
      "text/html": [
       "<div>\n",
       "<style scoped>\n",
       "    .dataframe tbody tr th:only-of-type {\n",
       "        vertical-align: middle;\n",
       "    }\n",
       "\n",
       "    .dataframe tbody tr th {\n",
       "        vertical-align: top;\n",
       "    }\n",
       "\n",
       "    .dataframe thead th {\n",
       "        text-align: right;\n",
       "    }\n",
       "</style>\n",
       "<table border=\"1\" class=\"dataframe\">\n",
       "  <thead>\n",
       "    <tr style=\"text-align: right;\">\n",
       "      <th></th>\n",
       "      <th>polarity</th>\n",
       "      <th>id</th>\n",
       "      <th>date</th>\n",
       "      <th>query</th>\n",
       "      <th>userName</th>\n",
       "      <th>text</th>\n",
       "    </tr>\n",
       "  </thead>\n",
       "  <tbody>\n",
       "    <tr>\n",
       "      <th>0</th>\n",
       "      <td>0</td>\n",
       "      <td>1467810369</td>\n",
       "      <td>Mon Apr 06 22:19:45 PDT 2009</td>\n",
       "      <td>NO_QUERY</td>\n",
       "      <td>_TheSpecialOne_</td>\n",
       "      <td>@switchfoot http://twitpic.com/2y1zl - Awww, t...</td>\n",
       "    </tr>\n",
       "    <tr>\n",
       "      <th>1</th>\n",
       "      <td>0</td>\n",
       "      <td>1467810672</td>\n",
       "      <td>Mon Apr 06 22:19:49 PDT 2009</td>\n",
       "      <td>NO_QUERY</td>\n",
       "      <td>scotthamilton</td>\n",
       "      <td>is upset that he can't update his Facebook by ...</td>\n",
       "    </tr>\n",
       "    <tr>\n",
       "      <th>2</th>\n",
       "      <td>0</td>\n",
       "      <td>1467810917</td>\n",
       "      <td>Mon Apr 06 22:19:53 PDT 2009</td>\n",
       "      <td>NO_QUERY</td>\n",
       "      <td>mattycus</td>\n",
       "      <td>@Kenichan I dived many times for the ball. Man...</td>\n",
       "    </tr>\n",
       "    <tr>\n",
       "      <th>3</th>\n",
       "      <td>0</td>\n",
       "      <td>1467811184</td>\n",
       "      <td>Mon Apr 06 22:19:57 PDT 2009</td>\n",
       "      <td>NO_QUERY</td>\n",
       "      <td>ElleCTF</td>\n",
       "      <td>my whole body feels itchy and like its on fire</td>\n",
       "    </tr>\n",
       "    <tr>\n",
       "      <th>4</th>\n",
       "      <td>0</td>\n",
       "      <td>1467811193</td>\n",
       "      <td>Mon Apr 06 22:19:57 PDT 2009</td>\n",
       "      <td>NO_QUERY</td>\n",
       "      <td>Karoli</td>\n",
       "      <td>@nationwideclass no, it's not behaving at all....</td>\n",
       "    </tr>\n",
       "  </tbody>\n",
       "</table>\n",
       "</div>"
      ],
      "text/plain": [
       "   polarity          id                          date     query  \\\n",
       "0         0  1467810369  Mon Apr 06 22:19:45 PDT 2009  NO_QUERY   \n",
       "1         0  1467810672  Mon Apr 06 22:19:49 PDT 2009  NO_QUERY   \n",
       "2         0  1467810917  Mon Apr 06 22:19:53 PDT 2009  NO_QUERY   \n",
       "3         0  1467811184  Mon Apr 06 22:19:57 PDT 2009  NO_QUERY   \n",
       "4         0  1467811193  Mon Apr 06 22:19:57 PDT 2009  NO_QUERY   \n",
       "\n",
       "          userName                                               text  \n",
       "0  _TheSpecialOne_  @switchfoot http://twitpic.com/2y1zl - Awww, t...  \n",
       "1    scotthamilton  is upset that he can't update his Facebook by ...  \n",
       "2         mattycus  @Kenichan I dived many times for the ball. Man...  \n",
       "3          ElleCTF    my whole body feels itchy and like its on fire   \n",
       "4           Karoli  @nationwideclass no, it's not behaving at all....  "
      ]
     },
     "execution_count": 3,
     "metadata": {},
     "output_type": "execute_result"
    }
   ],
   "source": [
    "# showing the first 5 records in the dataset\n",
    "df.head()"
   ]
  },
  {
   "cell_type": "markdown",
   "id": "22c9121a",
   "metadata": {},
   "source": [
    "### Investigate Dataset"
   ]
  },
  {
   "cell_type": "code",
   "execution_count": 4,
   "id": "6929106c",
   "metadata": {
    "scrolled": true
   },
   "outputs": [
    {
     "name": "stdout",
     "output_type": "stream",
     "text": [
      "<class 'pandas.core.frame.DataFrame'>\n",
      "RangeIndex: 1600000 entries, 0 to 1599999\n",
      "Data columns (total 6 columns):\n",
      " #   Column    Non-Null Count    Dtype \n",
      "---  ------    --------------    ----- \n",
      " 0   polarity  1600000 non-null  int64 \n",
      " 1   id        1600000 non-null  int64 \n",
      " 2   date      1600000 non-null  object\n",
      " 3   query     1600000 non-null  object\n",
      " 4   userName  1600000 non-null  object\n",
      " 5   text      1600000 non-null  object\n",
      "dtypes: int64(2), object(4)\n",
      "memory usage: 73.2+ MB\n"
     ]
    }
   ],
   "source": [
    "df.info()"
   ]
  },
  {
   "cell_type": "code",
   "execution_count": 5,
   "id": "a0218a51",
   "metadata": {},
   "outputs": [
    {
     "data": {
      "text/plain": [
       "0"
      ]
     },
     "execution_count": 5,
     "metadata": {},
     "output_type": "execute_result"
    }
   ],
   "source": [
    "df.duplicated().sum()"
   ]
  },
  {
   "cell_type": "markdown",
   "id": "167775fc",
   "metadata": {},
   "source": [
    "### Polarity Analysis"
   ]
  },
  {
   "cell_type": "code",
   "execution_count": 6,
   "id": "b33ce189",
   "metadata": {},
   "outputs": [
    {
     "data": {
      "text/plain": [
       "0    800000\n",
       "4    800000\n",
       "Name: polarity, dtype: int64"
      ]
     },
     "execution_count": 6,
     "metadata": {},
     "output_type": "execute_result"
    }
   ],
   "source": [
    "# checking the distribution of polarity\n",
    "df['polarity'].value_counts()"
   ]
  },
  {
   "cell_type": "markdown",
   "id": "41a9ce55",
   "metadata": {},
   "source": [
    "### Tweet ID Analysis"
   ]
  },
  {
   "cell_type": "code",
   "execution_count": 7,
   "id": "6c573578",
   "metadata": {},
   "outputs": [
    {
     "data": {
      "text/html": [
       "<div>\n",
       "<style scoped>\n",
       "    .dataframe tbody tr th:only-of-type {\n",
       "        vertical-align: middle;\n",
       "    }\n",
       "\n",
       "    .dataframe tbody tr th {\n",
       "        vertical-align: top;\n",
       "    }\n",
       "\n",
       "    .dataframe thead th {\n",
       "        text-align: right;\n",
       "    }\n",
       "</style>\n",
       "<table border=\"1\" class=\"dataframe\">\n",
       "  <thead>\n",
       "    <tr style=\"text-align: right;\">\n",
       "      <th></th>\n",
       "      <th>polarity</th>\n",
       "      <th>id</th>\n",
       "      <th>date</th>\n",
       "      <th>query</th>\n",
       "      <th>userName</th>\n",
       "      <th>text</th>\n",
       "    </tr>\n",
       "  </thead>\n",
       "  <tbody>\n",
       "    <tr>\n",
       "      <th>800261</th>\n",
       "      <td>4</td>\n",
       "      <td>1467863684</td>\n",
       "      <td>Mon Apr 06 22:33:35 PDT 2009</td>\n",
       "      <td>NO_QUERY</td>\n",
       "      <td>DjGundam</td>\n",
       "      <td>Awwh babs... you look so sad underneith that s...</td>\n",
       "    </tr>\n",
       "    <tr>\n",
       "      <th>800300</th>\n",
       "      <td>4</td>\n",
       "      <td>1467880442</td>\n",
       "      <td>Mon Apr 06 22:38:04 PDT 2009</td>\n",
       "      <td>NO_QUERY</td>\n",
       "      <td>iCalvin</td>\n",
       "      <td>Haven't tweeted nearly all day  Posted my webs...</td>\n",
       "    </tr>\n",
       "    <tr>\n",
       "      <th>801280</th>\n",
       "      <td>4</td>\n",
       "      <td>1468053611</td>\n",
       "      <td>Mon Apr 06 23:28:09 PDT 2009</td>\n",
       "      <td>NO_QUERY</td>\n",
       "      <td>mariejamora</td>\n",
       "      <td>@hellobebe I also send some updates in plurk b...</td>\n",
       "    </tr>\n",
       "    <tr>\n",
       "      <th>801573</th>\n",
       "      <td>4</td>\n",
       "      <td>1468100580</td>\n",
       "      <td>Mon Apr 06 23:42:57 PDT 2009</td>\n",
       "      <td>NO_QUERY</td>\n",
       "      <td>cristygarza</td>\n",
       "      <td>good night swetdreamss to everyonee   and jare...</td>\n",
       "    </tr>\n",
       "    <tr>\n",
       "      <th>801650</th>\n",
       "      <td>4</td>\n",
       "      <td>1468115720</td>\n",
       "      <td>Mon Apr 06 23:48:00 PDT 2009</td>\n",
       "      <td>NO_QUERY</td>\n",
       "      <td>WarholGirl</td>\n",
       "      <td>@ientje89 aw i'm fine too thanks! yeah i miss ...</td>\n",
       "    </tr>\n",
       "    <tr>\n",
       "      <th>...</th>\n",
       "      <td>...</td>\n",
       "      <td>...</td>\n",
       "      <td>...</td>\n",
       "      <td>...</td>\n",
       "      <td>...</td>\n",
       "      <td>...</td>\n",
       "    </tr>\n",
       "    <tr>\n",
       "      <th>1598780</th>\n",
       "      <td>4</td>\n",
       "      <td>2193278017</td>\n",
       "      <td>Tue Jun 16 08:14:22 PDT 2009</td>\n",
       "      <td>NO_QUERY</td>\n",
       "      <td>janiecwales</td>\n",
       "      <td>oh dear HH is back   please twitter do somethi...</td>\n",
       "    </tr>\n",
       "    <tr>\n",
       "      <th>1599298</th>\n",
       "      <td>4</td>\n",
       "      <td>2193403830</td>\n",
       "      <td>Tue Jun 16 08:24:44 PDT 2009</td>\n",
       "      <td>NO_QUERY</td>\n",
       "      <td>lauren__x33</td>\n",
       "      <td>english exam went okay        revising for fre...</td>\n",
       "    </tr>\n",
       "    <tr>\n",
       "      <th>1599385</th>\n",
       "      <td>4</td>\n",
       "      <td>2193428118</td>\n",
       "      <td>Tue Jun 16 08:26:44 PDT 2009</td>\n",
       "      <td>NO_QUERY</td>\n",
       "      <td>bubbles00</td>\n",
       "      <td>finally finished typing!!!! Woohoooo  , still ...</td>\n",
       "    </tr>\n",
       "    <tr>\n",
       "      <th>1599440</th>\n",
       "      <td>4</td>\n",
       "      <td>2193451289</td>\n",
       "      <td>Tue Jun 16 08:28:37 PDT 2009</td>\n",
       "      <td>NO_QUERY</td>\n",
       "      <td>faiznurdavid</td>\n",
       "      <td>@fanafatin see, @misschimichanga tweet u to jo...</td>\n",
       "    </tr>\n",
       "    <tr>\n",
       "      <th>1599931</th>\n",
       "      <td>4</td>\n",
       "      <td>2193576442</td>\n",
       "      <td>Tue Jun 16 08:38:45 PDT 2009</td>\n",
       "      <td>NO_QUERY</td>\n",
       "      <td>emma_b_xox</td>\n",
       "      <td>Had an injection today. Not fun  the rrst of t...</td>\n",
       "    </tr>\n",
       "  </tbody>\n",
       "</table>\n",
       "<p>1685 rows × 6 columns</p>\n",
       "</div>"
      ],
      "text/plain": [
       "         polarity          id                          date     query  \\\n",
       "800261          4  1467863684  Mon Apr 06 22:33:35 PDT 2009  NO_QUERY   \n",
       "800300          4  1467880442  Mon Apr 06 22:38:04 PDT 2009  NO_QUERY   \n",
       "801280          4  1468053611  Mon Apr 06 23:28:09 PDT 2009  NO_QUERY   \n",
       "801573          4  1468100580  Mon Apr 06 23:42:57 PDT 2009  NO_QUERY   \n",
       "801650          4  1468115720  Mon Apr 06 23:48:00 PDT 2009  NO_QUERY   \n",
       "...           ...         ...                           ...       ...   \n",
       "1598780         4  2193278017  Tue Jun 16 08:14:22 PDT 2009  NO_QUERY   \n",
       "1599298         4  2193403830  Tue Jun 16 08:24:44 PDT 2009  NO_QUERY   \n",
       "1599385         4  2193428118  Tue Jun 16 08:26:44 PDT 2009  NO_QUERY   \n",
       "1599440         4  2193451289  Tue Jun 16 08:28:37 PDT 2009  NO_QUERY   \n",
       "1599931         4  2193576442  Tue Jun 16 08:38:45 PDT 2009  NO_QUERY   \n",
       "\n",
       "             userName                                               text  \n",
       "800261       DjGundam  Awwh babs... you look so sad underneith that s...  \n",
       "800300        iCalvin  Haven't tweeted nearly all day  Posted my webs...  \n",
       "801280    mariejamora  @hellobebe I also send some updates in plurk b...  \n",
       "801573    cristygarza  good night swetdreamss to everyonee   and jare...  \n",
       "801650     WarholGirl  @ientje89 aw i'm fine too thanks! yeah i miss ...  \n",
       "...               ...                                                ...  \n",
       "1598780   janiecwales  oh dear HH is back   please twitter do somethi...  \n",
       "1599298   lauren__x33  english exam went okay        revising for fre...  \n",
       "1599385     bubbles00  finally finished typing!!!! Woohoooo  , still ...  \n",
       "1599440  faiznurdavid  @fanafatin see, @misschimichanga tweet u to jo...  \n",
       "1599931    emma_b_xox  Had an injection today. Not fun  the rrst of t...  \n",
       "\n",
       "[1685 rows x 6 columns]"
      ]
     },
     "execution_count": 7,
     "metadata": {},
     "output_type": "execute_result"
    }
   ],
   "source": [
    "df[df['id'].duplicated()]"
   ]
  },
  {
   "cell_type": "code",
   "execution_count": 8,
   "id": "eacc40d4",
   "metadata": {
    "scrolled": true
   },
   "outputs": [
    {
     "data": {
      "text/plain": [
       "\"Haven't tweeted nearly all day  Posted my website tonight, hopefully that goes well  Night time!\""
      ]
     },
     "execution_count": 8,
     "metadata": {},
     "output_type": "execute_result"
    }
   ],
   "source": [
    "df[df['id'] == 1467880442].iloc[0,5]"
   ]
  },
  {
   "cell_type": "code",
   "execution_count": 9,
   "id": "17e7a9ea",
   "metadata": {},
   "outputs": [
    {
     "data": {
      "text/plain": [
       "1685"
      ]
     },
     "execution_count": 9,
     "metadata": {},
     "output_type": "execute_result"
    }
   ],
   "source": [
    "df.duplicated(subset=['id']).sum()"
   ]
  },
  {
   "cell_type": "markdown",
   "id": "d02daef1",
   "metadata": {},
   "source": [
    "### Date Analysis"
   ]
  },
  {
   "cell_type": "code",
   "execution_count": 10,
   "id": "1762bece",
   "metadata": {},
   "outputs": [
    {
     "data": {
      "text/plain": [
       " PDT    1600000\n",
       "Name: date, dtype: int64"
      ]
     },
     "execution_count": 10,
     "metadata": {},
     "output_type": "execute_result"
    }
   ],
   "source": [
    "df['date'].apply(lambda x: x[19:23]).value_counts()"
   ]
  },
  {
   "cell_type": "code",
   "execution_count": 11,
   "id": "d991d3bd",
   "metadata": {},
   "outputs": [],
   "source": [
    "# splitting date into day, month, hour and year and adding them as features\n",
    "df['day'] = df['date'].apply(lambda x: x[0:3])\n",
    "df['month'] = df['date'].apply(lambda x: x[4:7])\n",
    "df['hour'] = df['date'].apply(lambda x: x[11:13])\n",
    "df['year'] = df['date'].apply(lambda x: x[24:])\n",
    "df['min'] = df['date'].apply(lambda x: x[14:16])\n",
    "df['sec'] = df['date'].apply(lambda x: x[17:19])"
   ]
  },
  {
   "cell_type": "code",
   "execution_count": 12,
   "id": "e032c2b9",
   "metadata": {},
   "outputs": [
    {
     "data": {
      "text/html": [
       "<div>\n",
       "<style scoped>\n",
       "    .dataframe tbody tr th:only-of-type {\n",
       "        vertical-align: middle;\n",
       "    }\n",
       "\n",
       "    .dataframe tbody tr th {\n",
       "        vertical-align: top;\n",
       "    }\n",
       "\n",
       "    .dataframe thead th {\n",
       "        text-align: right;\n",
       "    }\n",
       "</style>\n",
       "<table border=\"1\" class=\"dataframe\">\n",
       "  <thead>\n",
       "    <tr style=\"text-align: right;\">\n",
       "      <th></th>\n",
       "      <th>polarity</th>\n",
       "      <th>id</th>\n",
       "      <th>date</th>\n",
       "      <th>query</th>\n",
       "      <th>userName</th>\n",
       "      <th>text</th>\n",
       "      <th>day</th>\n",
       "      <th>month</th>\n",
       "      <th>hour</th>\n",
       "      <th>year</th>\n",
       "      <th>min</th>\n",
       "      <th>sec</th>\n",
       "    </tr>\n",
       "  </thead>\n",
       "  <tbody>\n",
       "    <tr>\n",
       "      <th>0</th>\n",
       "      <td>0</td>\n",
       "      <td>1467810369</td>\n",
       "      <td>Mon Apr 06 22:19:45 PDT 2009</td>\n",
       "      <td>NO_QUERY</td>\n",
       "      <td>_TheSpecialOne_</td>\n",
       "      <td>@switchfoot http://twitpic.com/2y1zl - Awww, t...</td>\n",
       "      <td>Mon</td>\n",
       "      <td>Apr</td>\n",
       "      <td>22</td>\n",
       "      <td>2009</td>\n",
       "      <td>19</td>\n",
       "      <td>45</td>\n",
       "    </tr>\n",
       "    <tr>\n",
       "      <th>1</th>\n",
       "      <td>0</td>\n",
       "      <td>1467810672</td>\n",
       "      <td>Mon Apr 06 22:19:49 PDT 2009</td>\n",
       "      <td>NO_QUERY</td>\n",
       "      <td>scotthamilton</td>\n",
       "      <td>is upset that he can't update his Facebook by ...</td>\n",
       "      <td>Mon</td>\n",
       "      <td>Apr</td>\n",
       "      <td>22</td>\n",
       "      <td>2009</td>\n",
       "      <td>19</td>\n",
       "      <td>49</td>\n",
       "    </tr>\n",
       "    <tr>\n",
       "      <th>2</th>\n",
       "      <td>0</td>\n",
       "      <td>1467810917</td>\n",
       "      <td>Mon Apr 06 22:19:53 PDT 2009</td>\n",
       "      <td>NO_QUERY</td>\n",
       "      <td>mattycus</td>\n",
       "      <td>@Kenichan I dived many times for the ball. Man...</td>\n",
       "      <td>Mon</td>\n",
       "      <td>Apr</td>\n",
       "      <td>22</td>\n",
       "      <td>2009</td>\n",
       "      <td>19</td>\n",
       "      <td>53</td>\n",
       "    </tr>\n",
       "    <tr>\n",
       "      <th>3</th>\n",
       "      <td>0</td>\n",
       "      <td>1467811184</td>\n",
       "      <td>Mon Apr 06 22:19:57 PDT 2009</td>\n",
       "      <td>NO_QUERY</td>\n",
       "      <td>ElleCTF</td>\n",
       "      <td>my whole body feels itchy and like its on fire</td>\n",
       "      <td>Mon</td>\n",
       "      <td>Apr</td>\n",
       "      <td>22</td>\n",
       "      <td>2009</td>\n",
       "      <td>19</td>\n",
       "      <td>57</td>\n",
       "    </tr>\n",
       "    <tr>\n",
       "      <th>4</th>\n",
       "      <td>0</td>\n",
       "      <td>1467811193</td>\n",
       "      <td>Mon Apr 06 22:19:57 PDT 2009</td>\n",
       "      <td>NO_QUERY</td>\n",
       "      <td>Karoli</td>\n",
       "      <td>@nationwideclass no, it's not behaving at all....</td>\n",
       "      <td>Mon</td>\n",
       "      <td>Apr</td>\n",
       "      <td>22</td>\n",
       "      <td>2009</td>\n",
       "      <td>19</td>\n",
       "      <td>57</td>\n",
       "    </tr>\n",
       "  </tbody>\n",
       "</table>\n",
       "</div>"
      ],
      "text/plain": [
       "   polarity          id                          date     query  \\\n",
       "0         0  1467810369  Mon Apr 06 22:19:45 PDT 2009  NO_QUERY   \n",
       "1         0  1467810672  Mon Apr 06 22:19:49 PDT 2009  NO_QUERY   \n",
       "2         0  1467810917  Mon Apr 06 22:19:53 PDT 2009  NO_QUERY   \n",
       "3         0  1467811184  Mon Apr 06 22:19:57 PDT 2009  NO_QUERY   \n",
       "4         0  1467811193  Mon Apr 06 22:19:57 PDT 2009  NO_QUERY   \n",
       "\n",
       "          userName                                               text  day  \\\n",
       "0  _TheSpecialOne_  @switchfoot http://twitpic.com/2y1zl - Awww, t...  Mon   \n",
       "1    scotthamilton  is upset that he can't update his Facebook by ...  Mon   \n",
       "2         mattycus  @Kenichan I dived many times for the ball. Man...  Mon   \n",
       "3          ElleCTF    my whole body feels itchy and like its on fire   Mon   \n",
       "4           Karoli  @nationwideclass no, it's not behaving at all....  Mon   \n",
       "\n",
       "  month hour  year min sec  \n",
       "0   Apr   22  2009  19  45  \n",
       "1   Apr   22  2009  19  49  \n",
       "2   Apr   22  2009  19  53  \n",
       "3   Apr   22  2009  19  57  \n",
       "4   Apr   22  2009  19  57  "
      ]
     },
     "execution_count": 12,
     "metadata": {},
     "output_type": "execute_result"
    }
   ],
   "source": [
    "# showing the the added attributes\n",
    "df.head()"
   ]
  },
  {
   "cell_type": "markdown",
   "id": "13690b66",
   "metadata": {},
   "source": [
    "#### Year"
   ]
  },
  {
   "cell_type": "code",
   "execution_count": 13,
   "id": "41fa0d10",
   "metadata": {},
   "outputs": [
    {
     "data": {
      "text/plain": [
       "2009    1600000\n",
       "Name: year, dtype: int64"
      ]
     },
     "execution_count": 13,
     "metadata": {},
     "output_type": "execute_result"
    }
   ],
   "source": [
    "# distribution of year\n",
    "df['year'].value_counts()"
   ]
  },
  {
   "cell_type": "markdown",
   "id": "9c73c55b",
   "metadata": {},
   "source": [
    "#### Month"
   ]
  },
  {
   "cell_type": "code",
   "execution_count": 14,
   "id": "001f2c17",
   "metadata": {
    "scrolled": true
   },
   "outputs": [
    {
     "data": {
      "text/plain": [
       "Jun    923608\n",
       "May    576367\n",
       "Apr    100025\n",
       "Name: month, dtype: int64"
      ]
     },
     "execution_count": 14,
     "metadata": {},
     "output_type": "execute_result"
    }
   ],
   "source": [
    "# distribution of tweets in months\n",
    "df['month'].value_counts()"
   ]
  },
  {
   "cell_type": "markdown",
   "id": "76afe0f9",
   "metadata": {},
   "source": [
    "#### Day"
   ]
  },
  {
   "cell_type": "code",
   "execution_count": 15,
   "id": "597358c2",
   "metadata": {},
   "outputs": [
    {
     "data": {
      "text/plain": [
       "Sun    344555\n",
       "Sat    330955\n",
       "Mon    310205\n",
       "Fri    225594\n",
       "Tue    185850\n",
       "Thu    106035\n",
       "Wed     96806\n",
       "Name: day, dtype: int64"
      ]
     },
     "execution_count": 15,
     "metadata": {},
     "output_type": "execute_result"
    }
   ],
   "source": [
    "# distribution of tweets in week day\n",
    "df['day'].value_counts()"
   ]
  },
  {
   "cell_type": "code",
   "execution_count": 16,
   "id": "3527c12c",
   "metadata": {},
   "outputs": [
    {
     "data": {
      "image/png": "[encoded data removed]",
      "text/plain": [
       "<Figure size 432x288 with 1 Axes>"
      ]
     },
     "metadata": {
      "needs_background": "light"
     },
     "output_type": "display_data"
    }
   ],
   "source": [
    "day_dist = df['day'].value_counts()\n",
    "\n",
    "# title and labels\n",
    "plt.ylabel('Number of Tweets')\n",
    "plt.xlabel('Week Day')\n",
    "plt.title('Tweet Frequency by Day')\n",
    "plt.bar(day_dist.index, day_dist);"
   ]
  },
  {
   "cell_type": "code",
   "execution_count": 17,
   "id": "27b50696",
   "metadata": {},
   "outputs": [],
   "source": [
    "# investigating correlation between day and polarity of tweets\n",
    "day_polarity = df.groupby(['day', 'polarity']).count()['id']"
   ]
  },
  {
   "cell_type": "code",
   "execution_count": 18,
   "id": "6a4d386e",
   "metadata": {},
   "outputs": [
    {
     "name": "stdout",
     "output_type": "stream",
     "text": [
      "Negative tweets [114600, 132539, 157734, 145471, 80132, 101051, 68473]\n",
      "Positive tweets [110994, 177666, 173221, 199084, 25903, 84799, 28333]\n"
     ]
    }
   ],
   "source": [
    "neg_day = []\n",
    "pos_day = []\n",
    "for i in range(0, len(day_polarity), 2):\n",
    "    neg_day.append(day_polarity[i])\n",
    "    pos_day.append(day_polarity[i+1])\n",
    "print('Negative tweets', neg_day)\n",
    "print('Positive tweets', pos_day)"
   ]
  },
  {
   "cell_type": "code",
   "execution_count": 19,
   "id": "3abe83b5",
   "metadata": {},
   "outputs": [
    {
     "data": {
      "image/png": "[encoded data removed]",
      "text/plain": [
       "<Figure size 432x288 with 1 Axes>"
      ]
     },
     "metadata": {
      "needs_background": "light"
     },
     "output_type": "display_data"
    }
   ],
   "source": [
    "# graphing tweet numbers by week day\n",
    "ind = np.arange(len(neg_day))  # the x locations for the groups\n",
    "width = 0.35       # the width of the bars\n",
    "\n",
    "# ploting bar chart\n",
    "neg_bars = plt.bar(ind, neg_day, width, color='k', alpha=.6, label='Negative')\n",
    "pos_bars = plt.bar(ind + width, pos_day, width, color='r', alpha=.6, label='Positive')\n",
    "\n",
    "# title and labels\n",
    "plt.ylabel('Number of Tweets')\n",
    "plt.xlabel('Week Day')\n",
    "plt.title('Tweet Polarity by Day')\n",
    "locations_day = ind + width / 2  # xtick locations\n",
    "labels_day = ['Fri', 'Mon', 'Sat', 'Sun', 'Thu', 'Tue', 'Wed']  # xtick labels\n",
    "plt.xticks(locations_day, labels_day);\n",
    "\n",
    "# legend\n",
    "plt.legend();"
   ]
  },
  {
   "cell_type": "markdown",
   "id": "c74e212d",
   "metadata": {},
   "source": [
    "#### Hours"
   ]
  },
  {
   "cell_type": "code",
   "execution_count": 20,
   "id": "86a0352a",
   "metadata": {},
   "outputs": [
    {
     "data": {
      "text/plain": [
       "23    84750\n",
       "07    83654\n",
       "00    80865\n",
       "06    80852\n",
       "05    78623\n",
       "22    78328\n",
       "04    76995\n",
       "08    76287\n",
       "01    75268\n",
       "03    74253\n",
       "02    73991\n",
       "21    68964\n",
       "09    67278\n",
       "11    61009\n",
       "10    60689\n",
       "19    57722\n",
       "20    57059\n",
       "16    55720\n",
       "18    53485\n",
       "17    51843\n",
       "12    51653\n",
       "15    50643\n",
       "14    50380\n",
       "13    49689\n",
       "Name: hour, dtype: int64"
      ]
     },
     "execution_count": 20,
     "metadata": {},
     "output_type": "execute_result"
    }
   ],
   "source": [
    "# distribution of tweets in day hours\n",
    "df['hour'].value_counts()"
   ]
  },
  {
   "cell_type": "code",
   "execution_count": 21,
   "id": "64d4acae",
   "metadata": {},
   "outputs": [
    {
     "data": {
      "image/png": "[encoded data removed]",
      "text/plain": [
       "<Figure size 1440x720 with 1 Axes>"
      ]
     },
     "metadata": {
      "needs_background": "light"
     },
     "output_type": "display_data"
    }
   ],
   "source": [
    "hour_dist = df['hour'].value_counts()\n",
    "\n",
    "plt.figure(figsize=(20,10)) \n",
    "\n",
    "# title and labels\n",
    "plt.ylabel('Number of Tweets', fontsize=14)\n",
    "plt.xlabel('Hour', fontsize=14)\n",
    "plt.title('Tweet Frequency by Hour', fontsize=20)\n",
    "\n",
    "\n",
    "plt.bar(hour_dist.index, hour_dist);"
   ]
  },
  {
   "cell_type": "code",
   "execution_count": 22,
   "id": "d59c8aea",
   "metadata": {},
   "outputs": [],
   "source": [
    "# investigating relations between tween polarity and hour\n",
    "hour_polarity = df.groupby(['hour', 'polarity']).count()['id']"
   ]
  },
  {
   "cell_type": "code",
   "execution_count": 23,
   "id": "82224178",
   "metadata": {},
   "outputs": [
    {
     "name": "stdout",
     "output_type": "stream",
     "text": [
      "Negative Tweets [35582, 30581, 30171, 31717, 34946, 37774, 40076, 42208, 40166, 36511, 31597, 31336, 28120, 27449, 27077, 28531, 31594, 29316, 29422, 31193, 30102, 36007, 39018, 39506]\n",
      "Positiver Tweets [45283, 44687, 43820, 42536, 42049, 40849, 40776, 41446, 36121, 30767, 29092, 29673, 23533, 22240, 23303, 22112, 24126, 22527, 24063, 26529, 26957, 32957, 39310, 45244]\n"
     ]
    }
   ],
   "source": [
    "neg_hour = []\n",
    "pos_hour = []\n",
    "for i in range(0, len(hour_polarity), 2):\n",
    "    neg_hour.append(hour_polarity[i])\n",
    "    pos_hour.append(hour_polarity[i+1])\n",
    "print('Negative Tweets', neg_hour)\n",
    "print('Positiver Tweets', pos_hour)"
   ]
  },
  {
   "cell_type": "code",
   "execution_count": 24,
   "id": "bc465838",
   "metadata": {
    "scrolled": true
   },
   "outputs": [
    {
     "data": {
      "image/png": "[encoded data removed]",
      "text/plain": [
       "<Figure size 1440x720 with 1 Axes>"
      ]
     },
     "metadata": {
      "needs_background": "light"
     },
     "output_type": "display_data"
    }
   ],
   "source": [
    "ind = np.arange(len(neg_hour))  # the x locations for the groups\n",
    "width = 0.35       # the width of the bars\n",
    "\n",
    "plt.figure(figsize=(20,10)) \n",
    "\n",
    "# ploting bar chart\n",
    "neg_bars = plt.bar(ind, neg_hour, width, color='k', alpha=.6, label='Negative')\n",
    "pos_bars = plt.bar(ind + width, pos_hour, width, color='r', alpha=.6, label='Positive')\n",
    "\n",
    "# title and labels\n",
    "plt.ylabel('Number of Tweets', fontsize=14)\n",
    "plt.xlabel('Day Hour', fontsize=14)\n",
    "plt.title('Tweet Polarity by Hour', fontdict={'fontsize':20})\n",
    "locations_hours = ind + width / 2  # xtick locations\n",
    "labels_hours = ['00', '01', '02', '03', '04', '05', '06',\n",
    "          '07', '08', '09', '10', '11', '12', '13', '14', '15', '16', '17', '18', '19', '20', '21', '22', '23']  # xtick labels\n",
    "plt.xticks(locations_hours, labels_hours);\n",
    "\n",
    "# legend\n",
    "plt.legend();"
   ]
  },
  {
   "cell_type": "markdown",
   "id": "118b9a4a",
   "metadata": {},
   "source": [
    "#### Minutes"
   ]
  },
  {
   "cell_type": "code",
   "execution_count": 25,
   "id": "a4de5a6c",
   "metadata": {},
   "outputs": [
    {
     "data": {
      "image/png": "[encoded data removed]",
      "text/plain": [
       "<Figure size 1440x720 with 1 Axes>"
      ]
     },
     "metadata": {
      "needs_background": "light"
     },
     "output_type": "display_data"
    }
   ],
   "source": [
    "plt.figure(figsize=(20,10)) \n",
    "# title and labels\n",
    "plt.ylabel('Number of Tweets', fontsize=14)\n",
    "plt.xlabel('Minute', fontsize=14)\n",
    "plt.title('Tweet Frequency by Minute', fontsize=20)\n",
    "plt.bar([x for x in range(0,60)], df['min'].value_counts());"
   ]
  },
  {
   "cell_type": "code",
   "execution_count": 26,
   "id": "bc632f37",
   "metadata": {
    "scrolled": true
   },
   "outputs": [
    {
     "data": {
      "text/plain": [
       "min  polarity\n",
       "00   0           13884\n",
       "     4           13001\n",
       "01   0           13208\n",
       "     4           14214\n",
       "02   0           13287\n",
       "                 ...  \n",
       "57   4           13283\n",
       "58   0           13498\n",
       "     4           13422\n",
       "59   0           13546\n",
       "     4           13325\n",
       "Name: id, Length: 120, dtype: int64"
      ]
     },
     "execution_count": 26,
     "metadata": {},
     "output_type": "execute_result"
    }
   ],
   "source": [
    "df.groupby(['min', 'polarity']).count()['id']"
   ]
  },
  {
   "cell_type": "markdown",
   "id": "e8d1a395",
   "metadata": {},
   "source": [
    "#### Seconds"
   ]
  },
  {
   "cell_type": "code",
   "execution_count": 27,
   "id": "95a1d538",
   "metadata": {
    "scrolled": true
   },
   "outputs": [
    {
     "data": {
      "image/png": "[encoded data removed]",
      "text/plain": [
       "<Figure size 1440x720 with 1 Axes>"
      ]
     },
     "metadata": {
      "needs_background": "light"
     },
     "output_type": "display_data"
    }
   ],
   "source": [
    "plt.figure(figsize=(20,10)) \n",
    "# title and labels\n",
    "plt.ylabel('Number of Tweets', fontsize=14)\n",
    "plt.xlabel('Second', fontsize=14)\n",
    "plt.title('Tweet Frequency by Seconds', fontsize=20)\n",
    "plt.bar([x for x in range(0,60)], df['sec'].value_counts());"
   ]
  },
  {
   "cell_type": "code",
   "execution_count": 28,
   "id": "5c56eea1",
   "metadata": {
    "scrolled": true
   },
   "outputs": [
    {
     "data": {
      "text/plain": [
       "sec  polarity\n",
       "00   0           13115\n",
       "     4           12500\n",
       "01   0           12807\n",
       "     4           12403\n",
       "02   0           13167\n",
       "                 ...  \n",
       "57   4           12821\n",
       "58   0           13099\n",
       "     4           12643\n",
       "59   0           13099\n",
       "     4           12620\n",
       "Name: id, Length: 120, dtype: int64"
      ]
     },
     "execution_count": 28,
     "metadata": {},
     "output_type": "execute_result"
    }
   ],
   "source": [
    "df.groupby(['sec', 'polarity']).count()['id']"
   ]
  },
  {
   "cell_type": "markdown",
   "id": "fdc18288",
   "metadata": {},
   "source": [
    "### Query Analysis"
   ]
  },
  {
   "cell_type": "code",
   "execution_count": 29,
   "id": "3033c6bb",
   "metadata": {},
   "outputs": [
    {
     "data": {
      "text/plain": [
       "NO_QUERY    1600000\n",
       "Name: query, dtype: int64"
      ]
     },
     "execution_count": 29,
     "metadata": {},
     "output_type": "execute_result"
    }
   ],
   "source": [
    "# query distribution\n",
    "df['query'].value_counts()"
   ]
  },
  {
   "cell_type": "markdown",
   "id": "c590c046",
   "metadata": {},
   "source": [
    "### Username Analysis"
   ]
  },
  {
   "cell_type": "code",
   "execution_count": 32,
   "id": "ddb6e477",
   "metadata": {
    "scrolled": true
   },
   "outputs": [
    {
     "data": {
      "text/plain": [
       "940225"
      ]
     },
     "execution_count": 32,
     "metadata": {},
     "output_type": "execute_result"
    }
   ],
   "source": [
    "df.duplicated(subset=['userName']).sum()"
   ]
  },
  {
   "cell_type": "markdown",
   "id": "25093176",
   "metadata": {},
   "source": [
    "### Text Analysis"
   ]
  },
  {
   "cell_type": "code",
   "execution_count": 33,
   "id": "18b825dc",
   "metadata": {},
   "outputs": [
    {
     "data": {
      "text/plain": [
       "18534"
      ]
     },
     "execution_count": 33,
     "metadata": {},
     "output_type": "execute_result"
    }
   ],
   "source": [
    "df['text'].duplicated().sum()"
   ]
  },
  {
   "cell_type": "markdown",
   "id": "f47b861e",
   "metadata": {},
   "source": [
    "# Preprocessing"
   ]
  },
  {
   "cell_type": "markdown",
   "id": "f78e4a8e",
   "metadata": {},
   "source": [
    "### Removing Duplicates"
   ]
  },
  {
   "cell_type": "code",
   "execution_count": 34,
   "id": "7630657b",
   "metadata": {},
   "outputs": [],
   "source": [
    "# Drop tweets with the same ID totally without keeping any dublicate\n",
    "df.drop_duplicates(subset=['id'], keep=False, inplace=True)"
   ]
  },
  {
   "cell_type": "code",
   "execution_count": 35,
   "id": "0b227d67",
   "metadata": {},
   "outputs": [],
   "source": [
    "# Drop tweets with same text but with keeping one of them\n",
    "df.drop_duplicates(subset=['text'], keep = False, inplace=True)"
   ]
  },
  {
   "cell_type": "code",
   "execution_count": 36,
   "id": "6edf1622",
   "metadata": {},
   "outputs": [],
   "source": [
    "df.reset_index(inplace=True, drop=True)"
   ]
  },
  {
   "cell_type": "markdown",
   "id": "9766a5d9",
   "metadata": {},
   "source": [
    "### Dropping Unneeded Features"
   ]
  },
  {
   "cell_type": "code",
   "execution_count": null,
   "id": "c3133329",
   "metadata": {},
   "outputs": [],
   "source": [
    "df.drop(columns=['id', 'date', 'query', 'userName', 'sec', 'min', 'year', 'month'], inplace=True)"
   ]
  },
  {
   "cell_type": "markdown",
   "id": "be64be72",
   "metadata": {},
   "source": [
    "### Adjusting Polarity"
   ]
  },
  {
   "cell_type": "code",
   "execution_count": 39,
   "id": "4ce5d77e",
   "metadata": {},
   "outputs": [],
   "source": [
    "# map polarity 4 to be polarity 1\n",
    "df['polarity'].replace(4, 1, inplace=True)"
   ]
  },
  {
   "cell_type": "markdown",
   "id": "a97aa053",
   "metadata": {},
   "source": [
    "### Text Preprocessing"
   ]
  },
  {
   "cell_type": "code",
   "execution_count": 40,
   "id": "78073338",
   "metadata": {},
   "outputs": [],
   "source": [
    "#adding new contractions to the contractions list which is already here\n",
    "# https://github.com/kootenpv/contractions/blob/master/contractions/data/contractions_dict.json\n",
    "contractions.add('isnt', 'is not')\n",
    "contractions.add('arent', 'are not')\n",
    "contractions.add('doesnt', 'does not')\n",
    "contractions.add('dont', 'do not')\n",
    "contractions.add('didnt', 'did not')\n",
    "contractions.add('cant', 'can not')\n",
    "contractions.add('couldnt', 'could not')\n",
    "contractions.add('hadnt', 'had not')\n",
    "contractions.add('hasnt', 'has not')\n",
    "contractions.add('havenot', 'have not')\n",
    "contractions.add('shouldnt', 'should not')\n",
    "contractions.add('wasnt', 'was not')\n",
    "contractions.add('werent', 'were not')\n",
    "contractions.add('wont', 'will not')\n",
    "contractions.add('wouldnt', 'would not')\n",
    "contractions.add('cannot', 'can not')\n",
    "contractions.add('can\\'t', 'can not')\n",
    "contractions.add( \"can't've\", \"can not have\")"
   ]
  },
  {
   "cell_type": "code",
   "execution_count": 41,
   "id": "60ef92bd",
   "metadata": {},
   "outputs": [],
   "source": [
    "def preprocess(doc):\n",
    "    doc = unidecode.unidecode(doc) # transliterates any unicode string into the closest possible representation in ascii text.\n",
    "    doc = contractions.fix(doc) # expands contractions                   \n",
    "    doc = re.sub('[\\t\\n]', ' ', doc) # remove newlines and tabs\n",
    "    doc = re.sub(r'@[A-Za-z0-9_]+', '', doc) # remove mentions\n",
    "    doc = re.sub(r'#[A-Za-z0-9_]+', '', doc) #remove hashtags\n",
    "    doc = re.sub(r'https?://[^ ]+', '', doc)\n",
    "    doc = re.sub(r'www.[^ ]+', '', doc)\n",
    "    doc = re.sub('[^A-Za-z]+', ' ', doc) # remove all characters other than alphabet\n",
    "    doc = re.sub(' +', ' ', doc) # substitute any number of space with one space only\n",
    "    doc = doc.strip().lower() # remove spaces from begining and end and lower the text\n",
    "    return doc"
   ]
  },
  {
   "cell_type": "markdown",
   "id": "5a11bb21",
   "metadata": {},
   "source": [
    "### Initial Processing"
   ]
  },
  {
   "cell_type": "code",
   "execution_count": 42,
   "id": "0383fcb7",
   "metadata": {},
   "outputs": [],
   "source": [
    "# Apply preprocessing for data\n",
    "df['processed'] = df['text'].apply(preprocess)"
   ]
  },
  {
   "cell_type": "code",
   "execution_count": 43,
   "id": "38be7703",
   "metadata": {},
   "outputs": [
    {
     "data": {
      "text/plain": [
       "60837"
      ]
     },
     "execution_count": 43,
     "metadata": {},
     "output_type": "execute_result"
    }
   ],
   "source": [
    "df['processed'].duplicated().sum() # remove them to reduce time of stemming (next step)"
   ]
  },
  {
   "cell_type": "code",
   "execution_count": 44,
   "id": "2c2812ed",
   "metadata": {},
   "outputs": [],
   "source": [
    "df.drop_duplicates(subset=['processed'], inplace=True)\n",
    "df.reset_index(inplace=True, drop=True)"
   ]
  },
  {
   "cell_type": "markdown",
   "id": "d519500d",
   "metadata": {},
   "source": [
    "### Tokenizing the words"
   ]
  },
  {
   "cell_type": "code",
   "execution_count": 45,
   "id": "3230cf79",
   "metadata": {
    "scrolled": true
   },
   "outputs": [],
   "source": [
    "# Tokenizing the words using spaces\n",
    "df['segmented'] = df['processed'].apply(lambda x: x.split()) "
   ]
  },
  {
   "cell_type": "markdown",
   "id": "e17d659d",
   "metadata": {},
   "source": [
    "### Lemmatizing the words"
   ]
  },
  {
   "cell_type": "code",
   "execution_count": 46,
   "id": "4676f56e",
   "metadata": {},
   "outputs": [],
   "source": [
    "from nltk.corpus import wordnet\n",
    "# Map pos tag from nltk library to characeters accepted by the wordnet Lemmatizer to understand word's POS \n",
    "def get_wordnet_pos(word): \n",
    "    tag = nltk.pos_tag([word])[0][1][0].upper()\n",
    "    tag_dict = {\"J\": wordnet.ADJ,\n",
    "                \"N\": wordnet.NOUN,\n",
    "                \"V\": wordnet.VERB,\n",
    "                \"R\": wordnet.ADV}\n",
    "\n",
    "    return tag_dict.get(tag, wordnet.NOUN)"
   ]
  },
  {
   "cell_type": "code",
   "execution_count": 47,
   "id": "7f1e137b",
   "metadata": {},
   "outputs": [],
   "source": [
    "from nltk.stem import WordNetLemmatizer\n",
    "# Lemmatize all words in a list of words using their POS\n",
    "def lemmatizerHelper(words):\n",
    "    lemmatizer = WordNetLemmatizer()\n",
    "    l = []\n",
    "    for w in words:\n",
    "        l.append(lemmatizer.lemmatize(w , get_wordnet_pos(w)))\n",
    "    return l\n",
    "    "
   ]
  },
  {
   "cell_type": "code",
   "execution_count": 48,
   "id": "66f52a61",
   "metadata": {
    "scrolled": true
   },
   "outputs": [],
   "source": [
    "df['stemmed'] = df['segmented'].apply(lemmatizerHelper) # stemming the words"
   ]
  },
  {
   "cell_type": "code",
   "execution_count": 112,
   "id": "a2fc094c",
   "metadata": {},
   "outputs": [],
   "source": [
    "from nltk.stem import WordNetLemmatizer\n",
    "lemmatizer = WordNetLemmatizer()"
   ]
  },
  {
   "cell_type": "markdown",
   "id": "03a6dc7a",
   "metadata": {},
   "source": [
    "### Frequency Analysis Before Removing Stop Words"
   ]
  },
  {
   "cell_type": "code",
   "execution_count": 49,
   "id": "f69d7e5b",
   "metadata": {
    "scrolled": true
   },
   "outputs": [
    {
     "data": {
      "image/png": "[encoded data removed]",
      "text/plain": [
       "<Figure size 1800x1080 with 1 Axes>"
      ]
     },
     "metadata": {
      "needs_background": "light"
     },
     "output_type": "display_data"
    }
   ],
   "source": [
    "from nltk.probability import FreqDist\n",
    "\n",
    "fdist = FreqDist()\n",
    "for vec in df['stemmed']:\n",
    "    for word in vec:\n",
    "        fdist[word.lower()] += 1\n",
    "\n",
    "highest = dict(fdist.most_common(100))\n",
    "\n",
    "plt.figure(figsize=(25,15)) \n",
    "plt.title('Words Histogram', fontdict={'fontsize':20})\n",
    "plt.xlabel('Word')\n",
    "plt.bar(highest.keys(), highest.values())\n",
    "plt.xticks(rotation=90)\n",
    "plt.show()"
   ]
  },
  {
   "cell_type": "code",
   "execution_count": 50,
   "id": "c71c80b5",
   "metadata": {},
   "outputs": [],
   "source": [
    "from string import ascii_lowercase\n",
    "\n",
    "stop_words = set(nltk.corpus.stopwords.words('english'))\n",
    "exclude_words = set((\"not\", \"no\"))\n",
    "new_stop_words = stop_words.difference(exclude_words)\n",
    "\n",
    "# adding single characters to new_stop_words\n",
    "for c in ascii_lowercase:\n",
    "    new_stop_words.add(c)"
   ]
  },
  {
   "cell_type": "code",
   "execution_count": 51,
   "id": "e403209b",
   "metadata": {},
   "outputs": [],
   "source": [
    "# Remove stopwords except \"not\", \"no\" from tokenized words\n",
    "df['stopRemoved'] = df['stemmed'].apply(lambda words: [word for word in words if word not in new_stop_words])"
   ]
  },
  {
   "cell_type": "code",
   "execution_count": 52,
   "id": "c61ea582",
   "metadata": {},
   "outputs": [],
   "source": [
    "negationWords = ['not', 'no', 'never']\n",
    "\n",
    "# A function that replaces negationWords in a tokenized array with not concatenated with the next nonNegation word (bigram but conctenated)\n",
    "# for example ['never', no', 'not', 'happy', 'journey'] will be ['nothappy', 'jo']\n",
    "def bigramNegationWords(words):\n",
    "    l = []\n",
    "    metNegation = False\n",
    "    bigram = ''\n",
    "    for w in words:\n",
    "        if w in negationWords:\n",
    "            if metNegation == False:\n",
    "                bigram += 'not'\n",
    "                metNegation = True\n",
    "            else:\n",
    "                continue\n",
    "        else:\n",
    "            if metNegation == True:\n",
    "                bigram += w\n",
    "                l.append(bigram)\n",
    "                metNegation = False\n",
    "                bigram = ''\n",
    "            else:\n",
    "                l.append(w)\n",
    "    return l\n"
   ]
  },
  {
   "cell_type": "code",
   "execution_count": 53,
   "id": "98f79071",
   "metadata": {},
   "outputs": [],
   "source": [
    " df['negated'] = df['stopRemoved'].apply(bigramNegationWords)"
   ]
  },
  {
   "cell_type": "markdown",
   "id": "7c6b5e47",
   "metadata": {},
   "source": [
    "### Frequency Analysis After Removing Stop Words"
   ]
  },
  {
   "cell_type": "code",
   "execution_count": 54,
   "id": "e309ac23",
   "metadata": {
    "scrolled": true
   },
   "outputs": [
    {
     "data": {
      "image/png": "[encoded data removed]",
      "text/plain": [
       "<Figure size 1800x1080 with 1 Axes>"
      ]
     },
     "metadata": {
      "needs_background": "light"
     },
     "output_type": "display_data"
    }
   ],
   "source": [
    "from nltk.probability import FreqDist\n",
    "\n",
    "fdist = FreqDist()\n",
    "for vec in df['negated']:\n",
    "    for word in vec:\n",
    "        fdist[word.lower()] += 1\n",
    "\n",
    "higestStopRem = dict(fdist.most_common(100))\n",
    "\n",
    "plt.figure(figsize=(25,15)) \n",
    "plt.title('Words Histogram', fontdict={'fontsize':20})\n",
    "plt.xlabel('Word')\n",
    "plt.bar(higestStopRem.keys(), higestStopRem.values())\n",
    "plt.xticks(rotation=90)\n",
    "plt.show()"
   ]
  },
  {
   "cell_type": "code",
   "execution_count": 55,
   "id": "965d7644",
   "metadata": {},
   "outputs": [
    {
     "data": {
      "text/plain": [
       "260778"
      ]
     },
     "execution_count": 55,
     "metadata": {},
     "output_type": "execute_result"
    }
   ],
   "source": [
    "# Number of unique words in the data\n",
    "len(fdist)"
   ]
  },
  {
   "cell_type": "code",
   "execution_count": 56,
   "id": "508f89da",
   "metadata": {},
   "outputs": [
    {
     "name": "stdout",
     "output_type": "stream",
     "text": [
      "Mean: 40.4375254047504\n",
      "Median: 1.0\n"
     ]
    }
   ],
   "source": [
    "from statistics import *\n",
    "# Mean and Median => The graph is right skewed\n",
    "print('Mean:', mean(fdist.values()))\n",
    "print('Median:', median(fdist.values()))"
   ]
  },
  {
   "cell_type": "markdown",
   "id": "93770414",
   "metadata": {},
   "source": [
    "### Removing least frequency words"
   ]
  },
  {
   "cell_type": "code",
   "execution_count": 57,
   "id": "d37d9f4e",
   "metadata": {},
   "outputs": [
    {
     "data": {
      "text/plain": [
       "7119"
      ]
     },
     "execution_count": 57,
     "metadata": {},
     "output_type": "execute_result"
    }
   ],
   "source": [
    "# Number of words with freq >100\n",
    "len([x for x in fdist.values() if x >= 100])"
   ]
  },
  {
   "cell_type": "code",
   "execution_count": 58,
   "id": "503f6fd8",
   "metadata": {},
   "outputs": [
    {
     "data": {
      "text/plain": [
       "6837"
      ]
     },
     "execution_count": 58,
     "metadata": {},
     "output_type": "execute_result"
    }
   ],
   "source": [
    "# Putting high frequency non stop words in a list usefulWords\n",
    "usefulWords = []\n",
    "for word in fdist:\n",
    "    if fdist[word] >= 100 and len(word)>2:\n",
    "        usefulWords.append(word)\n",
    "len(usefulWords)"
   ]
  },
  {
   "cell_type": "code",
   "execution_count": 59,
   "id": "4f76623c",
   "metadata": {},
   "outputs": [],
   "source": [
    "usefulWords.append('oh')\n",
    "usefulWords.append('aw')\n",
    "usefulWords.append('ok')\n",
    "usefulWords.append('hi')"
   ]
  },
  {
   "cell_type": "code",
   "execution_count": 60,
   "id": "703f7b32",
   "metadata": {},
   "outputs": [
    {
     "data": {
      "text/plain": [
       "['good',\n",
       " 'work',\n",
       " 'like',\n",
       " 'love',\n",
       " 'quot',\n",
       " 'today',\n",
       " 'well',\n",
       " 'time',\n",
       " 'want',\n",
       " 'lol',\n",
       " 'back',\n",
       " 'miss',\n",
       " 'make',\n",
       " 'one',\n",
       " 'see',\n",
       " 'amp',\n",
       " 'really',\n",
       " 'night',\n",
       " 'think',\n",
       " 'feel',\n",
       " 'still',\n",
       " 'know',\n",
       " 'would',\n",
       " 'new',\n",
       " 'come',\n",
       " 'need',\n",
       " 'watch',\n",
       " 'home',\n",
       " 'look',\n",
       " 'last',\n",
       " 'thanks',\n",
       " 'much',\n",
       " 'hope',\n",
       " 'tomorrow',\n",
       " 'great',\n",
       " 'twitter',\n",
       " 'wish',\n",
       " 'say',\n",
       " 'morning',\n",
       " 'haha',\n",
       " 'take',\n",
       " 'bad',\n",
       " 'sad',\n",
       " 'week',\n",
       " 'could',\n",
       " 'right',\n",
       " 'try',\n",
       " 'thing',\n",
       " 'sleep',\n",
       " 'tonight',\n",
       " 'fun',\n",
       " 'friend',\n",
       " 'sorry',\n",
       " 'though',\n",
       " 'way',\n",
       " 'happy',\n",
       " 'nice',\n",
       " 'bed',\n",
       " 'yeah',\n",
       " 'start',\n",
       " 'hour',\n",
       " 'hate',\n",
       " 'people',\n",
       " 'tweet',\n",
       " 'school',\n",
       " 'show',\n",
       " 'weekend',\n",
       " 'guy',\n",
       " 'yes',\n",
       " 'soon',\n",
       " 'next',\n",
       " 'hey',\n",
       " 'wait',\n",
       " 'awesome',\n",
       " 'little',\n",
       " 'life',\n",
       " 'long',\n",
       " 'first',\n",
       " 'year',\n",
       " 'follow',\n",
       " 'tire',\n",
       " 'notget',\n",
       " 'movie',\n",
       " 'play',\n",
       " 'best',\n",
       " 'rain',\n",
       " 'girl',\n",
       " 'sick',\n",
       " 'thank',\n",
       " 'suck',\n",
       " 'let',\n",
       " 'head',\n",
       " 'even',\n",
       " 'please',\n",
       " 'use',\n",
       " 'call',\n",
       " 'notwait',\n",
       " 'always',\n",
       " 'everyone',\n",
       " 'give',\n",
       " 'already',\n",
       " 'lot',\n",
       " 'something',\n",
       " 'another',\n",
       " 'keep',\n",
       " 'man',\n",
       " 'phone',\n",
       " 'old',\n",
       " 'lose',\n",
       " 'yay',\n",
       " 'talk',\n",
       " 'eat',\n",
       " 'song',\n",
       " 'house',\n",
       " 'cool',\n",
       " 'ready',\n",
       " 'enjoy',\n",
       " 'pretty',\n",
       " 'hurt',\n",
       " 'maybe',\n",
       " 'big',\n",
       " 'help',\n",
       " 'away',\n",
       " 'omg',\n",
       " 'notgo',\n",
       " 'notwant',\n",
       " 'ever',\n",
       " 'leave',\n",
       " 'game',\n",
       " 'guess',\n",
       " 'amaze',\n",
       " 'summer',\n",
       " 'thought',\n",
       " 'sound',\n",
       " 'notknow',\n",
       " 'finally',\n",
       " 'damn',\n",
       " 'yet',\n",
       " 'finish',\n",
       " 'early',\n",
       " 'someone',\n",
       " 'excite',\n",
       " 'bit',\n",
       " 'sure',\n",
       " 'left',\n",
       " 'find',\n",
       " 'baby',\n",
       " 'listen',\n",
       " 'wow',\n",
       " 'kind',\n",
       " 'party',\n",
       " 'live',\n",
       " 'nothing',\n",
       " 'hot',\n",
       " 'tell',\n",
       " 'end',\n",
       " 'also',\n",
       " 'glad',\n",
       " 'mean',\n",
       " 'weather',\n",
       " 'pic',\n",
       " 'two',\n",
       " 'stuff',\n",
       " 'bore',\n",
       " 'later',\n",
       " 'sun',\n",
       " 'mom',\n",
       " 'ugh',\n",
       " 'late',\n",
       " 'birthday',\n",
       " 'saw',\n",
       " 'might',\n",
       " 'god',\n",
       " 'check',\n",
       " 'yesterday',\n",
       " 'actually',\n",
       " 'put',\n",
       " 'exam',\n",
       " 'fuck',\n",
       " 'hard',\n",
       " 'run',\n",
       " 'car',\n",
       " 'since',\n",
       " 'world',\n",
       " 'kid',\n",
       " 'job',\n",
       " 'sunday',\n",
       " 'hear',\n",
       " 'friday',\n",
       " 'around',\n",
       " 'post',\n",
       " 'video',\n",
       " 'monday',\n",
       " 'must',\n",
       " 'music',\n",
       " 'book',\n",
       " 'stop',\n",
       " 'update',\n",
       " 'cold',\n",
       " 'many',\n",
       " 'boy',\n",
       " 'beautiful',\n",
       " 'write',\n",
       " 'may',\n",
       " 'found',\n",
       " 'family',\n",
       " 'cry',\n",
       " 'move',\n",
       " 'aww',\n",
       " 'notwork',\n",
       " 'stay',\n",
       " 'read',\n",
       " 'least',\n",
       " 'noteven',\n",
       " 'poor',\n",
       " 'hair',\n",
       " 'almost',\n",
       " 'woke',\n",
       " 'tho',\n",
       " 'month',\n",
       " 'okay',\n",
       " 'far',\n",
       " 'lunch',\n",
       " 'till',\n",
       " 'luck',\n",
       " 'dinner',\n",
       " 'die',\n",
       " 'food',\n",
       " 'study',\n",
       " 'cute',\n",
       " 'class',\n",
       " 'picture',\n",
       " 'seem',\n",
       " 'everything',\n",
       " 'shit',\n",
       " 'place',\n",
       " 'sweet',\n",
       " 'happen',\n",
       " 'forward',\n",
       " 'free',\n",
       " 'anything',\n",
       " 'drive',\n",
       " 'anyone',\n",
       " 'sit',\n",
       " 'iphone',\n",
       " 'every',\n",
       " 'funny',\n",
       " 'name',\n",
       " 'mine',\n",
       " 'notsee',\n",
       " 'change',\n",
       " 'walk',\n",
       " 'dad',\n",
       " 'hahaha',\n",
       " 'turn',\n",
       " 'outside',\n",
       " 'without',\n",
       " 'totally',\n",
       " 'dream',\n",
       " 'stupid',\n",
       " 'coffee',\n",
       " 'ill',\n",
       " 'dog',\n",
       " 'room',\n",
       " 'follower',\n",
       " 'probably',\n",
       " 'win',\n",
       " 'real',\n",
       " 'saturday',\n",
       " 'notgood',\n",
       " 'buy',\n",
       " 'ask',\n",
       " 'minute',\n",
       " 'wake',\n",
       " 'wrong',\n",
       " 'sooo',\n",
       " 'notthink',\n",
       " 'notsleep',\n",
       " 'anymore',\n",
       " 'plan',\n",
       " 'busy',\n",
       " 'send',\n",
       " 'face',\n",
       " 'lovely',\n",
       " 'fan',\n",
       " 'notone',\n",
       " 'notlike',\n",
       " 'brother',\n",
       " 'welcome',\n",
       " 'break',\n",
       " 'rock',\n",
       " 'hit',\n",
       " 'whole',\n",
       " 'wonder',\n",
       " 'eye',\n",
       " 'hopefully',\n",
       " 'hang',\n",
       " 'rest',\n",
       " 'super',\n",
       " 'beach',\n",
       " 'crazy',\n",
       " 'half',\n",
       " 'notfeel',\n",
       " 'final',\n",
       " 'hell',\n",
       " 'enough',\n",
       " 'kill',\n",
       " 'word',\n",
       " 'ago',\n",
       " 'computer',\n",
       " 'mother',\n",
       " 'news',\n",
       " 'forgot',\n",
       " 'blog',\n",
       " 'else',\n",
       " 'part',\n",
       " 'money',\n",
       " 'headache',\n",
       " 'reading',\n",
       " 'meet',\n",
       " 'heart',\n",
       " 'trip',\n",
       " 'photo',\n",
       " 'full',\n",
       " 'hello',\n",
       " 'soo',\n",
       " 'fail',\n",
       " 'shopping',\n",
       " 'boo',\n",
       " 'true',\n",
       " 'sister',\n",
       " 'remember',\n",
       " 'office',\n",
       " 'either',\n",
       " 'dance',\n",
       " 'notbelieve',\n",
       " 'cuz',\n",
       " 'close',\n",
       " 'btw',\n",
       " 'link',\n",
       " 'hehe',\n",
       " 'hug',\n",
       " 'test',\n",
       " 'reply',\n",
       " 'stuck',\n",
       " 'course',\n",
       " 'goodnight',\n",
       " 'idea',\n",
       " 'ticket',\n",
       " 'site',\n",
       " 'pain',\n",
       " 'hop',\n",
       " 'email',\n",
       " 'add',\n",
       " 'alone',\n",
       " 'concert',\n",
       " 'hand',\n",
       " 'shower',\n",
       " 'season',\n",
       " 'nite',\n",
       " 'dude',\n",
       " 'fine',\n",
       " 'learn',\n",
       " 'visit',\n",
       " 'open',\n",
       " 'fall',\n",
       " 'breakfast',\n",
       " 'cat',\n",
       " 'awake',\n",
       " 'person',\n",
       " 'fix',\n",
       " 'internet',\n",
       " 'bring',\n",
       " 'com',\n",
       " 'set',\n",
       " 'told',\n",
       " 'favorite',\n",
       " 'drink',\n",
       " 'lmao',\n",
       " 'seriously',\n",
       " 'text',\n",
       " 'boring',\n",
       " 'til',\n",
       " 'bought',\n",
       " 'june',\n",
       " 'facebook',\n",
       " 'online',\n",
       " 'broke',\n",
       " 'smile',\n",
       " 'high',\n",
       " 'catch',\n",
       " 'sunny',\n",
       " 'crap',\n",
       " 'lucky',\n",
       " 'cut',\n",
       " 'min',\n",
       " 'care',\n",
       " 'problem',\n",
       " 'afternoon',\n",
       " 'anyway',\n",
       " 'suppose',\n",
       " 'asleep',\n",
       " 'instead',\n",
       " 'mind',\n",
       " 'star',\n",
       " 'lady',\n",
       " 'red',\n",
       " 'wear',\n",
       " 'hungry',\n",
       " 'bye',\n",
       " 'quite',\n",
       " 'bout',\n",
       " 'ice',\n",
       " 'heard',\n",
       " 'yea',\n",
       " 'page',\n",
       " 'album',\n",
       " 'meeting',\n",
       " 'notfind',\n",
       " 'city',\n",
       " 'sigh',\n",
       " 'second',\n",
       " 'notmake',\n",
       " 'nap',\n",
       " 'notreally',\n",
       " 'jealous',\n",
       " 'top',\n",
       " 'message',\n",
       " 'wonderful',\n",
       " 'soooo',\n",
       " 'definitely',\n",
       " 'together',\n",
       " 'sometimes',\n",
       " 'laugh',\n",
       " 'tour',\n",
       " 'store',\n",
       " 'couple',\n",
       " 'holiday',\n",
       " 'date',\n",
       " 'dead',\n",
       " 'story',\n",
       " 'water',\n",
       " 'dear',\n",
       " 'mad',\n",
       " 'moment',\n",
       " 'congrats',\n",
       " 'laptop',\n",
       " 'sore',\n",
       " 'interest',\n",
       " 'sell',\n",
       " 'award',\n",
       " 'town',\n",
       " 'side',\n",
       " 'dress',\n",
       " 'line',\n",
       " 'pick',\n",
       " 'reason',\n",
       " 'drop',\n",
       " 'vote',\n",
       " 'short',\n",
       " 'church',\n",
       " 'order',\n",
       " 'foot',\n",
       " 'point',\n",
       " 'pack',\n",
       " 'notsure',\n",
       " 'tea',\n",
       " 'clean',\n",
       " 'easy',\n",
       " 'list',\n",
       " 'weird',\n",
       " 'homework',\n",
       " 'ppl',\n",
       " 'ipod',\n",
       " 'notlet',\n",
       " 'save',\n",
       " 'agree',\n",
       " 'youtube',\n",
       " 'figure',\n",
       " 'less',\n",
       " 'cream',\n",
       " 'join',\n",
       " 'sing',\n",
       " 'perfect',\n",
       " 'share',\n",
       " 'lil',\n",
       " 'gym',\n",
       " 'goin',\n",
       " 'mum',\n",
       " 'account',\n",
       " 'pay',\n",
       " 'fast',\n",
       " 'ride',\n",
       " 'english',\n",
       " 'episode',\n",
       " 'band',\n",
       " 'ahh',\n",
       " 'math',\n",
       " 'park',\n",
       " 'chat',\n",
       " 'chocolate',\n",
       " 'air',\n",
       " 'pool',\n",
       " 'ate',\n",
       " 'fly',\n",
       " 'relax',\n",
       " 'wedding',\n",
       " 'kick',\n",
       " 'hmm',\n",
       " 'download',\n",
       " 'window',\n",
       " 'slow',\n",
       " 'london',\n",
       " 'notcome',\n",
       " 'three',\n",
       " 'team',\n",
       " 'mood',\n",
       " 'flight',\n",
       " 'sign',\n",
       " 'sat',\n",
       " 'black',\n",
       " 'past',\n",
       " 'comment',\n",
       " 'scar',\n",
       " 'able',\n",
       " 'decide',\n",
       " 'unfortunately',\n",
       " 'card',\n",
       " 'parent',\n",
       " 'broken',\n",
       " 'shirt',\n",
       " 'knew',\n",
       " 'yep',\n",
       " 'via',\n",
       " 'train',\n",
       " 'upset',\n",
       " 'notlook',\n",
       " 'cleaning',\n",
       " 'xxx',\n",
       " 'sleepy',\n",
       " 'horrible',\n",
       " 'number',\n",
       " 'sent',\n",
       " 'realize',\n",
       " 'paper',\n",
       " 'cheer',\n",
       " 'college',\n",
       " 'question',\n",
       " 'throat',\n",
       " 'mac',\n",
       " 'leg',\n",
       " 'tuesday',\n",
       " 'green',\n",
       " 'project',\n",
       " 'sunshine',\n",
       " 'shop',\n",
       " 'cake',\n",
       " 'moon',\n",
       " 'jonas',\n",
       " 'worth',\n",
       " 'finger',\n",
       " 'bet',\n",
       " 'blue',\n",
       " 'load',\n",
       " 'website',\n",
       " 'film',\n",
       " 'rather',\n",
       " 'fell',\n",
       " 'beer',\n",
       " 'apparently',\n",
       " 'drinking',\n",
       " 'vacation',\n",
       " 'bus',\n",
       " 'special',\n",
       " 'warm',\n",
       " 'notworry',\n",
       " 'chance',\n",
       " 'light',\n",
       " 'answer',\n",
       " 'wtf',\n",
       " 'body',\n",
       " 'plus',\n",
       " 'shoe',\n",
       " 'due',\n",
       " 'woman',\n",
       " 'flu',\n",
       " 'spent',\n",
       " 'record',\n",
       " 'notbad',\n",
       " 'bday',\n",
       " 'cousin',\n",
       " 'freak',\n",
       " 'earlier',\n",
       " 'small',\n",
       " 'age',\n",
       " 'mess',\n",
       " 'support',\n",
       " 'chill',\n",
       " 'white',\n",
       " 'ahhh',\n",
       " 'notmuch',\n",
       " 'lay',\n",
       " 'miley',\n",
       " 'thursday',\n",
       " 'huge',\n",
       " 'notfun',\n",
       " 'google',\n",
       " 'forever',\n",
       " 'myspace',\n",
       " 'shot',\n",
       " 'son',\n",
       " 'idk',\n",
       " 'lazy',\n",
       " 'nope',\n",
       " 'believe',\n",
       " 'cancel',\n",
       " 'notable',\n",
       " 'mtv',\n",
       " 'camp',\n",
       " 'babe',\n",
       " 'david',\n",
       " 'garden',\n",
       " 'july',\n",
       " 'thx',\n",
       " 'sort',\n",
       " 'voice',\n",
       " 'swim',\n",
       " 'spend',\n",
       " 'beat',\n",
       " 'especially',\n",
       " 'bum',\n",
       " 'piss',\n",
       " 'shame',\n",
       " 'shoot',\n",
       " 'boyfriend',\n",
       " 'sadly',\n",
       " 'camera',\n",
       " 'inside',\n",
       " 'apple',\n",
       " 'power',\n",
       " 'airport',\n",
       " 'bless',\n",
       " 'bike',\n",
       " 'pizza',\n",
       " 'begin',\n",
       " 'different',\n",
       " 'father',\n",
       " 'tom',\n",
       " 'touch',\n",
       " 'yummy',\n",
       " 'pray',\n",
       " 'road',\n",
       " 'hold',\n",
       " 'block',\n",
       " 'stomach',\n",
       " 'note',\n",
       " 'fight',\n",
       " 'sims',\n",
       " 'except',\n",
       " 'case',\n",
       " 'club',\n",
       " 'box',\n",
       " 'graduation',\n",
       " 'radio',\n",
       " 'bbq',\n",
       " 'chicken',\n",
       " 'officially',\n",
       " 'cover',\n",
       " 'bitch',\n",
       " 'service',\n",
       " 'storm',\n",
       " 'hubby',\n",
       " 'hill',\n",
       " 'safe',\n",
       " 'slept',\n",
       " 'possible',\n",
       " 'lie',\n",
       " 'rainy',\n",
       " 'mail',\n",
       " 'shall',\n",
       " 'cup',\n",
       " 'doctor',\n",
       " 'hospital',\n",
       " 'smell',\n",
       " 'interview',\n",
       " 'absolutely',\n",
       " 'alright',\n",
       " 'search',\n",
       " 'upload',\n",
       " 'proud',\n",
       " 'wine',\n",
       " 'fact',\n",
       " 'woo',\n",
       " 'gorgeous',\n",
       " 'wednesday',\n",
       " 'become',\n",
       " 'pass',\n",
       " 'wit',\n",
       " 'bag',\n",
       " 'goodbye',\n",
       " 'hmmm',\n",
       " 'twilight',\n",
       " 'deal',\n",
       " 'dvd',\n",
       " 'lame',\n",
       " 'appreciate',\n",
       " 'met',\n",
       " 'type',\n",
       " 'young',\n",
       " 'glass',\n",
       " 'issue',\n",
       " 'front',\n",
       " 'low',\n",
       " 'bar',\n",
       " 'wash',\n",
       " 'taste',\n",
       " 'meant',\n",
       " 'near',\n",
       " 'yup',\n",
       " 'notidea',\n",
       " 'roll',\n",
       " 'bro',\n",
       " 'pull',\n",
       " 'company',\n",
       " 'living',\n",
       " 'wife',\n",
       " 'felt',\n",
       " 'state',\n",
       " 'annoy',\n",
       " 'kiss',\n",
       " 'confuse',\n",
       " 'notice',\n",
       " 'french',\n",
       " 'xoxo',\n",
       " 'tear',\n",
       " 'tan',\n",
       " 'business',\n",
       " 'ball',\n",
       " 'mile',\n",
       " 'lonely',\n",
       " 'round',\n",
       " 'behind',\n",
       " 'jus',\n",
       " 'daughter',\n",
       " 'version',\n",
       " 'played',\n",
       " 'door',\n",
       " 'notstop',\n",
       " 'scary',\n",
       " 'guitar',\n",
       " 'ear',\n",
       " 'although',\n",
       " 'stress',\n",
       " 'ouch',\n",
       " 'happens',\n",
       " 'hat',\n",
       " 'drunk',\n",
       " 'whatever',\n",
       " 'along',\n",
       " 'child',\n",
       " 'event',\n",
       " 'mate',\n",
       " 'arm',\n",
       " 'art',\n",
       " 'fire',\n",
       " 'gettin',\n",
       " 'exhaust',\n",
       " 'ache',\n",
       " 'nottake',\n",
       " 'burn',\n",
       " 'app',\n",
       " 'tummy',\n",
       " 'clothes',\n",
       " 'cross',\n",
       " 'hahah',\n",
       " 'everybody',\n",
       " 'mommy',\n",
       " 'vega',\n",
       " 'plane',\n",
       " 'pas',\n",
       " 'sale',\n",
       " 'puppy',\n",
       " 'arrive',\n",
       " 'country',\n",
       " 'hotel',\n",
       " 'return',\n",
       " 'grow',\n",
       " 'fantastic',\n",
       " 'awww',\n",
       " 'random',\n",
       " 'speak',\n",
       " 'ahead',\n",
       " 'release',\n",
       " 'alot',\n",
       " 'design',\n",
       " 'hangover',\n",
       " 'huh',\n",
       " 'travel',\n",
       " 'terrible',\n",
       " 'gosh',\n",
       " 'screen',\n",
       " 'web',\n",
       " 'single',\n",
       " 'forget',\n",
       " 'notsay',\n",
       " 'self',\n",
       " 'group',\n",
       " 'ohh',\n",
       " 'track',\n",
       " 'nothelp',\n",
       " 'lately',\n",
       " 'exactly',\n",
       " 'understand',\n",
       " 'revision',\n",
       " 'nottime',\n",
       " 'death',\n",
       " 'nothappy',\n",
       " 'dark',\n",
       " 'notwatch',\n",
       " 'mention',\n",
       " 'practice',\n",
       " 'fml',\n",
       " 'history',\n",
       " 'lakers',\n",
       " 'profile',\n",
       " 'ruin',\n",
       " 'buddy',\n",
       " 'indeed',\n",
       " 'cheese',\n",
       " 'act',\n",
       " 'peace',\n",
       " 'race',\n",
       " 'bug',\n",
       " 'yum',\n",
       " 'men',\n",
       " 'hun',\n",
       " 'memory',\n",
       " 'cook',\n",
       " 'nick',\n",
       " 'land',\n",
       " 'bird',\n",
       " 'expect',\n",
       " 'street',\n",
       " 'cough',\n",
       " 'twit',\n",
       " 'notneed',\n",
       " 'daddy',\n",
       " 'extra',\n",
       " 'promise',\n",
       " 'stand',\n",
       " 'nobody',\n",
       " 'awful',\n",
       " 'blood',\n",
       " 'fill',\n",
       " 'nail',\n",
       " 'ran',\n",
       " 'quick',\n",
       " 'nose',\n",
       " 'currently',\n",
       " 'somewhere',\n",
       " 'fat',\n",
       " 'waste',\n",
       " 'invite',\n",
       " 'completely',\n",
       " 'bloody',\n",
       " 'pink',\n",
       " 'disappointed',\n",
       " 'others',\n",
       " 'dang',\n",
       " 'dunno',\n",
       " 'watchin',\n",
       " 'complete',\n",
       " 'ooh',\n",
       " 'trouble',\n",
       " 'step',\n",
       " 'taylor',\n",
       " 'rip',\n",
       " 'mall',\n",
       " 'blah',\n",
       " 'spending',\n",
       " 'pop',\n",
       " 'gay',\n",
       " 'fam',\n",
       " 'caught',\n",
       " 'worried',\n",
       " 'usually',\n",
       " 'chillin',\n",
       " 'traffic',\n",
       " 'throw',\n",
       " 'heat',\n",
       " 'delete',\n",
       " 'nyc',\n",
       " 'sexy',\n",
       " 'serious',\n",
       " 'brain',\n",
       " 'magic',\n",
       " 'def',\n",
       " 'revise',\n",
       " 'crash',\n",
       " 'double',\n",
       " 'sky',\n",
       " 'result',\n",
       " 'john',\n",
       " 'coz',\n",
       " 'itunes',\n",
       " 'rid',\n",
       " 'husband',\n",
       " 'future',\n",
       " 'peep',\n",
       " 'ring',\n",
       " 'jon',\n",
       " 'stick',\n",
       " 'nearly',\n",
       " 'sooooo',\n",
       " 'channel',\n",
       " 'mmm',\n",
       " 'celebrate',\n",
       " 'bill',\n",
       " 'gig',\n",
       " 'nah',\n",
       " 'view',\n",
       " 'review',\n",
       " 'notseem',\n",
       " 'info',\n",
       " 'etc',\n",
       " 'joe',\n",
       " 'none',\n",
       " 'lesson',\n",
       " 'kate',\n",
       " 'color',\n",
       " 'training',\n",
       " 'silly',\n",
       " 'fit',\n",
       " 'mark',\n",
       " 'blackberry',\n",
       " 'wat',\n",
       " 'demi',\n",
       " 'bank',\n",
       " 'argh',\n",
       " 'longer',\n",
       " 'background',\n",
       " 'piece',\n",
       " 'trailer',\n",
       " 'kitty',\n",
       " 'fever',\n",
       " 'manage',\n",
       " 'thru',\n",
       " 'planning',\n",
       " 'graduate',\n",
       " 'tune',\n",
       " 'series',\n",
       " 'middle',\n",
       " 'hilarious',\n",
       " 'bummer',\n",
       " 'shout',\n",
       " 'joke',\n",
       " 'shift',\n",
       " 'wet',\n",
       " 'notforget',\n",
       " 'tweetdeck',\n",
       " 'american',\n",
       " 'quiet',\n",
       " 'shut',\n",
       " 'experience',\n",
       " 'degree',\n",
       " 'normal',\n",
       " 'major',\n",
       " 'notuse',\n",
       " 'trek',\n",
       " 'fav',\n",
       " 'notyet',\n",
       " 'france',\n",
       " 'spot',\n",
       " 'chris',\n",
       " 'screw',\n",
       " 'adam',\n",
       " 'often',\n",
       " 'straight',\n",
       " 'fish',\n",
       " 'king',\n",
       " 'addict',\n",
       " 'congratulation',\n",
       " 'teeth',\n",
       " 'badly',\n",
       " 'noteat',\n",
       " 'report',\n",
       " 'mcfly',\n",
       " 'laundry',\n",
       " 'mobile',\n",
       " 'folk',\n",
       " 'burnt',\n",
       " 'key',\n",
       " 'angel',\n",
       " 'tip',\n",
       " 'hahahaha',\n",
       " 'epic',\n",
       " 'session',\n",
       " 'present',\n",
       " 'gift',\n",
       " 'usual',\n",
       " ...]"
      ]
     },
     "execution_count": 60,
     "metadata": {},
     "output_type": "execute_result"
    }
   ],
   "source": [
    "# Removing some frequent meaningless words (We already removed most frequent in the stopwords step)\n",
    "usefulWords.remove('get')\n",
    "usefulWords.remove('day')\n",
    "usefulWords"
   ]
  },
  {
   "cell_type": "code",
   "execution_count": 61,
   "id": "4b399429",
   "metadata": {},
   "outputs": [],
   "source": [
    "# Remove less frequent words\n",
    "def remLessFreq(x):\n",
    "    ll = []\n",
    "    for word in x:\n",
    "        if word in usefulWords:\n",
    "            ll.append(word)\n",
    "    return ll"
   ]
  },
  {
   "cell_type": "code",
   "execution_count": 62,
   "id": "bd50170a",
   "metadata": {},
   "outputs": [],
   "source": [
    "df['cleaned'] = df['negated'].apply(remLessFreq)"
   ]
  },
  {
   "cell_type": "code",
   "execution_count": 63,
   "id": "ee5ce4d8",
   "metadata": {},
   "outputs": [],
   "source": [
    "df['cleaned'] = df['cleaned'].apply(lambda x: np.nan if len(x) == 0 else x)"
   ]
  },
  {
   "cell_type": "code",
   "execution_count": 64,
   "id": "9227ac9d",
   "metadata": {},
   "outputs": [
    {
     "data": {
      "text/plain": [
       "(1512197, 10)"
      ]
     },
     "execution_count": 64,
     "metadata": {},
     "output_type": "execute_result"
    }
   ],
   "source": [
    "# Size before dropping empty values\n",
    "df.shape"
   ]
  },
  {
   "cell_type": "code",
   "execution_count": 65,
   "id": "396a744a",
   "metadata": {},
   "outputs": [],
   "source": [
    "df.dropna(inplace=True)"
   ]
  },
  {
   "cell_type": "code",
   "execution_count": 66,
   "id": "5a1e4d80",
   "metadata": {},
   "outputs": [
    {
     "data": {
      "text/plain": [
       "(1496338, 10)"
      ]
     },
     "execution_count": 66,
     "metadata": {},
     "output_type": "execute_result"
    }
   ],
   "source": [
    "# Size After dropping empty\n",
    "df.shape"
   ]
  },
  {
   "cell_type": "markdown",
   "id": "e7aea6bd",
   "metadata": {},
   "source": [
    "## Feature Generation"
   ]
  },
  {
   "cell_type": "markdown",
   "id": "902e69ac",
   "metadata": {},
   "source": [
    "### Words"
   ]
  },
  {
   "cell_type": "code",
   "execution_count": 67,
   "id": "d102f72f",
   "metadata": {},
   "outputs": [],
   "source": [
    "def convToDict(words):\n",
    "    freq= dict()\n",
    "    for word in words:\n",
    "        if word in freq:\n",
    "            freq[word] +=1\n",
    "        else:\n",
    "            freq[word] = 1\n",
    "    return freq"
   ]
  },
  {
   "cell_type": "code",
   "execution_count": 68,
   "id": "851010be",
   "metadata": {},
   "outputs": [],
   "source": [
    "df['words'] = df['cleaned'].apply(convToDict)"
   ]
  },
  {
   "cell_type": "code",
   "execution_count": 69,
   "id": "1da08883",
   "metadata": {},
   "outputs": [],
   "source": [
    "df.to_csv(\"beforeDropping.csv\", index=False)"
   ]
  },
  {
   "cell_type": "code",
   "execution_count": 70,
   "id": "c645a489",
   "metadata": {},
   "outputs": [],
   "source": [
    "df.drop(columns=['text', 'processed','segmented', 'stemmed', 'stopRemoved', 'negated', 'cleaned'], inplace=True)"
   ]
  },
  {
   "cell_type": "markdown",
   "id": "c05d143b",
   "metadata": {},
   "source": [
    "### Days"
   ]
  },
  {
   "cell_type": "code",
   "execution_count": 71,
   "id": "4ed61fa5",
   "metadata": {},
   "outputs": [
    {
     "data": {
      "text/html": [
       "<div>\n",
       "<style scoped>\n",
       "    .dataframe tbody tr th:only-of-type {\n",
       "        vertical-align: middle;\n",
       "    }\n",
       "\n",
       "    .dataframe tbody tr th {\n",
       "        vertical-align: top;\n",
       "    }\n",
       "\n",
       "    .dataframe thead th {\n",
       "        text-align: right;\n",
       "    }\n",
       "</style>\n",
       "<table border=\"1\" class=\"dataframe\">\n",
       "  <thead>\n",
       "    <tr style=\"text-align: right;\">\n",
       "      <th></th>\n",
       "      <th>Fri</th>\n",
       "      <th>Mon</th>\n",
       "      <th>Sat</th>\n",
       "      <th>Sun</th>\n",
       "      <th>Thu</th>\n",
       "      <th>Tue</th>\n",
       "      <th>Wed</th>\n",
       "    </tr>\n",
       "  </thead>\n",
       "  <tbody>\n",
       "    <tr>\n",
       "      <th>0</th>\n",
       "      <td>0</td>\n",
       "      <td>1</td>\n",
       "      <td>0</td>\n",
       "      <td>0</td>\n",
       "      <td>0</td>\n",
       "      <td>0</td>\n",
       "      <td>0</td>\n",
       "    </tr>\n",
       "    <tr>\n",
       "      <th>1</th>\n",
       "      <td>0</td>\n",
       "      <td>1</td>\n",
       "      <td>0</td>\n",
       "      <td>0</td>\n",
       "      <td>0</td>\n",
       "      <td>0</td>\n",
       "      <td>0</td>\n",
       "    </tr>\n",
       "    <tr>\n",
       "      <th>2</th>\n",
       "      <td>0</td>\n",
       "      <td>1</td>\n",
       "      <td>0</td>\n",
       "      <td>0</td>\n",
       "      <td>0</td>\n",
       "      <td>0</td>\n",
       "      <td>0</td>\n",
       "    </tr>\n",
       "    <tr>\n",
       "      <th>3</th>\n",
       "      <td>0</td>\n",
       "      <td>1</td>\n",
       "      <td>0</td>\n",
       "      <td>0</td>\n",
       "      <td>0</td>\n",
       "      <td>0</td>\n",
       "      <td>0</td>\n",
       "    </tr>\n",
       "    <tr>\n",
       "      <th>4</th>\n",
       "      <td>0</td>\n",
       "      <td>1</td>\n",
       "      <td>0</td>\n",
       "      <td>0</td>\n",
       "      <td>0</td>\n",
       "      <td>0</td>\n",
       "      <td>0</td>\n",
       "    </tr>\n",
       "  </tbody>\n",
       "</table>\n",
       "</div>"
      ],
      "text/plain": [
       "   Fri  Mon  Sat  Sun  Thu  Tue  Wed\n",
       "0    0    1    0    0    0    0    0\n",
       "1    0    1    0    0    0    0    0\n",
       "2    0    1    0    0    0    0    0\n",
       "3    0    1    0    0    0    0    0\n",
       "4    0    1    0    0    0    0    0"
      ]
     },
     "execution_count": 71,
     "metadata": {},
     "output_type": "execute_result"
    }
   ],
   "source": [
    "# one hot encoding for week\n",
    "days_encoded = pd.get_dummies(df['day'])\n",
    "days_encoded.head()"
   ]
  },
  {
   "cell_type": "markdown",
   "id": "d85bbf7b",
   "metadata": {},
   "source": [
    "### Hours"
   ]
  },
  {
   "cell_type": "code",
   "execution_count": 72,
   "id": "1f2c8b28",
   "metadata": {},
   "outputs": [
    {
     "data": {
      "text/html": [
       "<div>\n",
       "<style scoped>\n",
       "    .dataframe tbody tr th:only-of-type {\n",
       "        vertical-align: middle;\n",
       "    }\n",
       "\n",
       "    .dataframe tbody tr th {\n",
       "        vertical-align: top;\n",
       "    }\n",
       "\n",
       "    .dataframe thead th {\n",
       "        text-align: right;\n",
       "    }\n",
       "</style>\n",
       "<table border=\"1\" class=\"dataframe\">\n",
       "  <thead>\n",
       "    <tr style=\"text-align: right;\">\n",
       "      <th></th>\n",
       "      <th>h_00</th>\n",
       "      <th>h_01</th>\n",
       "      <th>h_02</th>\n",
       "      <th>h_03</th>\n",
       "      <th>h_04</th>\n",
       "      <th>h_05</th>\n",
       "      <th>h_06</th>\n",
       "      <th>h_07</th>\n",
       "      <th>h_08</th>\n",
       "      <th>h_09</th>\n",
       "      <th>...</th>\n",
       "      <th>h_14</th>\n",
       "      <th>h_15</th>\n",
       "      <th>h_16</th>\n",
       "      <th>h_17</th>\n",
       "      <th>h_18</th>\n",
       "      <th>h_19</th>\n",
       "      <th>h_20</th>\n",
       "      <th>h_21</th>\n",
       "      <th>h_22</th>\n",
       "      <th>h_23</th>\n",
       "    </tr>\n",
       "  </thead>\n",
       "  <tbody>\n",
       "    <tr>\n",
       "      <th>0</th>\n",
       "      <td>0</td>\n",
       "      <td>0</td>\n",
       "      <td>0</td>\n",
       "      <td>0</td>\n",
       "      <td>0</td>\n",
       "      <td>0</td>\n",
       "      <td>0</td>\n",
       "      <td>0</td>\n",
       "      <td>0</td>\n",
       "      <td>0</td>\n",
       "      <td>...</td>\n",
       "      <td>0</td>\n",
       "      <td>0</td>\n",
       "      <td>0</td>\n",
       "      <td>0</td>\n",
       "      <td>0</td>\n",
       "      <td>0</td>\n",
       "      <td>0</td>\n",
       "      <td>0</td>\n",
       "      <td>1</td>\n",
       "      <td>0</td>\n",
       "    </tr>\n",
       "    <tr>\n",
       "      <th>1</th>\n",
       "      <td>0</td>\n",
       "      <td>0</td>\n",
       "      <td>0</td>\n",
       "      <td>0</td>\n",
       "      <td>0</td>\n",
       "      <td>0</td>\n",
       "      <td>0</td>\n",
       "      <td>0</td>\n",
       "      <td>0</td>\n",
       "      <td>0</td>\n",
       "      <td>...</td>\n",
       "      <td>0</td>\n",
       "      <td>0</td>\n",
       "      <td>0</td>\n",
       "      <td>0</td>\n",
       "      <td>0</td>\n",
       "      <td>0</td>\n",
       "      <td>0</td>\n",
       "      <td>0</td>\n",
       "      <td>1</td>\n",
       "      <td>0</td>\n",
       "    </tr>\n",
       "    <tr>\n",
       "      <th>2</th>\n",
       "      <td>0</td>\n",
       "      <td>0</td>\n",
       "      <td>0</td>\n",
       "      <td>0</td>\n",
       "      <td>0</td>\n",
       "      <td>0</td>\n",
       "      <td>0</td>\n",
       "      <td>0</td>\n",
       "      <td>0</td>\n",
       "      <td>0</td>\n",
       "      <td>...</td>\n",
       "      <td>0</td>\n",
       "      <td>0</td>\n",
       "      <td>0</td>\n",
       "      <td>0</td>\n",
       "      <td>0</td>\n",
       "      <td>0</td>\n",
       "      <td>0</td>\n",
       "      <td>0</td>\n",
       "      <td>1</td>\n",
       "      <td>0</td>\n",
       "    </tr>\n",
       "    <tr>\n",
       "      <th>3</th>\n",
       "      <td>0</td>\n",
       "      <td>0</td>\n",
       "      <td>0</td>\n",
       "      <td>0</td>\n",
       "      <td>0</td>\n",
       "      <td>0</td>\n",
       "      <td>0</td>\n",
       "      <td>0</td>\n",
       "      <td>0</td>\n",
       "      <td>0</td>\n",
       "      <td>...</td>\n",
       "      <td>0</td>\n",
       "      <td>0</td>\n",
       "      <td>0</td>\n",
       "      <td>0</td>\n",
       "      <td>0</td>\n",
       "      <td>0</td>\n",
       "      <td>0</td>\n",
       "      <td>0</td>\n",
       "      <td>1</td>\n",
       "      <td>0</td>\n",
       "    </tr>\n",
       "    <tr>\n",
       "      <th>4</th>\n",
       "      <td>0</td>\n",
       "      <td>0</td>\n",
       "      <td>0</td>\n",
       "      <td>0</td>\n",
       "      <td>0</td>\n",
       "      <td>0</td>\n",
       "      <td>0</td>\n",
       "      <td>0</td>\n",
       "      <td>0</td>\n",
       "      <td>0</td>\n",
       "      <td>...</td>\n",
       "      <td>0</td>\n",
       "      <td>0</td>\n",
       "      <td>0</td>\n",
       "      <td>0</td>\n",
       "      <td>0</td>\n",
       "      <td>0</td>\n",
       "      <td>0</td>\n",
       "      <td>0</td>\n",
       "      <td>1</td>\n",
       "      <td>0</td>\n",
       "    </tr>\n",
       "  </tbody>\n",
       "</table>\n",
       "<p>5 rows × 24 columns</p>\n",
       "</div>"
      ],
      "text/plain": [
       "   h_00  h_01  h_02  h_03  h_04  h_05  h_06  h_07  h_08  h_09  ...  h_14  \\\n",
       "0     0     0     0     0     0     0     0     0     0     0  ...     0   \n",
       "1     0     0     0     0     0     0     0     0     0     0  ...     0   \n",
       "2     0     0     0     0     0     0     0     0     0     0  ...     0   \n",
       "3     0     0     0     0     0     0     0     0     0     0  ...     0   \n",
       "4     0     0     0     0     0     0     0     0     0     0  ...     0   \n",
       "\n",
       "   h_15  h_16  h_17  h_18  h_19  h_20  h_21  h_22  h_23  \n",
       "0     0     0     0     0     0     0     0     1     0  \n",
       "1     0     0     0     0     0     0     0     1     0  \n",
       "2     0     0     0     0     0     0     0     1     0  \n",
       "3     0     0     0     0     0     0     0     1     0  \n",
       "4     0     0     0     0     0     0     0     1     0  \n",
       "\n",
       "[5 rows x 24 columns]"
      ]
     },
     "execution_count": 72,
     "metadata": {},
     "output_type": "execute_result"
    }
   ],
   "source": [
    "hours_encoded = pd.get_dummies(df['hour'], prefix ='h')\n",
    "hours_encoded.head()"
   ]
  },
  {
   "cell_type": "code",
   "execution_count": 75,
   "id": "c8409f14",
   "metadata": {},
   "outputs": [],
   "source": [
    "final_df = df.join(days_encoded).join(hours_encoded)"
   ]
  },
  {
   "cell_type": "code",
   "execution_count": 76,
   "id": "8e216b08",
   "metadata": {},
   "outputs": [],
   "source": [
    "final_df.drop(columns=['day','hour'], inplace=True)"
   ]
  },
  {
   "cell_type": "code",
   "execution_count": 77,
   "id": "a6130d68",
   "metadata": {},
   "outputs": [],
   "source": [
    "final_df.to_csv(\"final_df.csv\", index=False)"
   ]
  },
  {
   "cell_type": "code",
   "execution_count": 132,
   "id": "05c4d138",
   "metadata": {},
   "outputs": [
    {
     "data": {
      "text/html": [
       "<div>\n",
       "<style scoped>\n",
       "    .dataframe tbody tr th:only-of-type {\n",
       "        vertical-align: middle;\n",
       "    }\n",
       "\n",
       "    .dataframe tbody tr th {\n",
       "        vertical-align: top;\n",
       "    }\n",
       "\n",
       "    .dataframe thead th {\n",
       "        text-align: right;\n",
       "    }\n",
       "</style>\n",
       "<table border=\"1\" class=\"dataframe\">\n",
       "  <thead>\n",
       "    <tr style=\"text-align: right;\">\n",
       "      <th></th>\n",
       "      <th>polarity</th>\n",
       "      <th>words</th>\n",
       "      <th>Fri</th>\n",
       "      <th>Mon</th>\n",
       "      <th>Sat</th>\n",
       "      <th>Sun</th>\n",
       "      <th>Thu</th>\n",
       "      <th>Tue</th>\n",
       "      <th>Wed</th>\n",
       "      <th>h_00</th>\n",
       "      <th>...</th>\n",
       "      <th>h_14</th>\n",
       "      <th>h_15</th>\n",
       "      <th>h_16</th>\n",
       "      <th>h_17</th>\n",
       "      <th>h_18</th>\n",
       "      <th>h_19</th>\n",
       "      <th>h_20</th>\n",
       "      <th>h_21</th>\n",
       "      <th>h_22</th>\n",
       "      <th>h_23</th>\n",
       "    </tr>\n",
       "  </thead>\n",
       "  <tbody>\n",
       "    <tr>\n",
       "      <th>0</th>\n",
       "      <td>0</td>\n",
       "      <td>{'awww': 1, 'bummer': 1, 'shoulda': 1, 'david'...</td>\n",
       "      <td>0</td>\n",
       "      <td>1</td>\n",
       "      <td>0</td>\n",
       "      <td>0</td>\n",
       "      <td>0</td>\n",
       "      <td>0</td>\n",
       "      <td>0</td>\n",
       "      <td>0</td>\n",
       "      <td>...</td>\n",
       "      <td>0</td>\n",
       "      <td>0</td>\n",
       "      <td>0</td>\n",
       "      <td>0</td>\n",
       "      <td>0</td>\n",
       "      <td>0</td>\n",
       "      <td>0</td>\n",
       "      <td>0</td>\n",
       "      <td>1</td>\n",
       "      <td>0</td>\n",
       "    </tr>\n",
       "    <tr>\n",
       "      <th>1</th>\n",
       "      <td>0</td>\n",
       "      <td>{'upset': 1, 'notupdate': 1, 'facebook': 1, 't...</td>\n",
       "      <td>0</td>\n",
       "      <td>1</td>\n",
       "      <td>0</td>\n",
       "      <td>0</td>\n",
       "      <td>0</td>\n",
       "      <td>0</td>\n",
       "      <td>0</td>\n",
       "      <td>0</td>\n",
       "      <td>...</td>\n",
       "      <td>0</td>\n",
       "      <td>0</td>\n",
       "      <td>0</td>\n",
       "      <td>0</td>\n",
       "      <td>0</td>\n",
       "      <td>0</td>\n",
       "      <td>0</td>\n",
       "      <td>0</td>\n",
       "      <td>1</td>\n",
       "      <td>0</td>\n",
       "    </tr>\n",
       "    <tr>\n",
       "      <th>2</th>\n",
       "      <td>0</td>\n",
       "      <td>{'dive': 1, 'many': 1, 'time': 1, 'ball': 1, '...</td>\n",
       "      <td>0</td>\n",
       "      <td>1</td>\n",
       "      <td>0</td>\n",
       "      <td>0</td>\n",
       "      <td>0</td>\n",
       "      <td>0</td>\n",
       "      <td>0</td>\n",
       "      <td>0</td>\n",
       "      <td>...</td>\n",
       "      <td>0</td>\n",
       "      <td>0</td>\n",
       "      <td>0</td>\n",
       "      <td>0</td>\n",
       "      <td>0</td>\n",
       "      <td>0</td>\n",
       "      <td>0</td>\n",
       "      <td>0</td>\n",
       "      <td>1</td>\n",
       "      <td>0</td>\n",
       "    </tr>\n",
       "    <tr>\n",
       "      <th>3</th>\n",
       "      <td>0</td>\n",
       "      <td>{'whole': 1, 'body': 1, 'feel': 1, 'itchy': 1,...</td>\n",
       "      <td>0</td>\n",
       "      <td>1</td>\n",
       "      <td>0</td>\n",
       "      <td>0</td>\n",
       "      <td>0</td>\n",
       "      <td>0</td>\n",
       "      <td>0</td>\n",
       "      <td>0</td>\n",
       "      <td>...</td>\n",
       "      <td>0</td>\n",
       "      <td>0</td>\n",
       "      <td>0</td>\n",
       "      <td>0</td>\n",
       "      <td>0</td>\n",
       "      <td>0</td>\n",
       "      <td>0</td>\n",
       "      <td>0</td>\n",
       "      <td>1</td>\n",
       "      <td>0</td>\n",
       "    </tr>\n",
       "    <tr>\n",
       "      <th>4</th>\n",
       "      <td>0</td>\n",
       "      <td>{'mad': 1, 'notsee': 1}</td>\n",
       "      <td>0</td>\n",
       "      <td>1</td>\n",
       "      <td>0</td>\n",
       "      <td>0</td>\n",
       "      <td>0</td>\n",
       "      <td>0</td>\n",
       "      <td>0</td>\n",
       "      <td>0</td>\n",
       "      <td>...</td>\n",
       "      <td>0</td>\n",
       "      <td>0</td>\n",
       "      <td>0</td>\n",
       "      <td>0</td>\n",
       "      <td>0</td>\n",
       "      <td>0</td>\n",
       "      <td>0</td>\n",
       "      <td>0</td>\n",
       "      <td>1</td>\n",
       "      <td>0</td>\n",
       "    </tr>\n",
       "  </tbody>\n",
       "</table>\n",
       "<p>5 rows × 33 columns</p>\n",
       "</div>"
      ],
      "text/plain": [
       "   polarity                                              words  Fri  Mon  Sat  \\\n",
       "0         0  {'awww': 1, 'bummer': 1, 'shoulda': 1, 'david'...    0    1    0   \n",
       "1         0  {'upset': 1, 'notupdate': 1, 'facebook': 1, 't...    0    1    0   \n",
       "2         0  {'dive': 1, 'many': 1, 'time': 1, 'ball': 1, '...    0    1    0   \n",
       "3         0  {'whole': 1, 'body': 1, 'feel': 1, 'itchy': 1,...    0    1    0   \n",
       "4         0                            {'mad': 1, 'notsee': 1}    0    1    0   \n",
       "\n",
       "   Sun  Thu  Tue  Wed  h_00  ...  h_14  h_15  h_16  h_17  h_18  h_19  h_20  \\\n",
       "0    0    0    0    0     0  ...     0     0     0     0     0     0     0   \n",
       "1    0    0    0    0     0  ...     0     0     0     0     0     0     0   \n",
       "2    0    0    0    0     0  ...     0     0     0     0     0     0     0   \n",
       "3    0    0    0    0     0  ...     0     0     0     0     0     0     0   \n",
       "4    0    0    0    0     0  ...     0     0     0     0     0     0     0   \n",
       "\n",
       "   h_21  h_22  h_23  \n",
       "0     0     1     0  \n",
       "1     0     1     0  \n",
       "2     0     1     0  \n",
       "3     0     1     0  \n",
       "4     0     1     0  \n",
       "\n",
       "[5 rows x 33 columns]"
      ]
     },
     "execution_count": 132,
     "metadata": {},
     "output_type": "execute_result"
    }
   ],
   "source": [
    "final_df.head()"
   ]
  },
  {
   "cell_type": "markdown",
   "id": "be658ddd",
   "metadata": {},
   "source": [
    "## Final Metrics"
   ]
  },
  {
   "cell_type": "markdown",
   "id": "5abf6b75",
   "metadata": {},
   "source": [
    "### Data SIze"
   ]
  },
  {
   "cell_type": "code",
   "execution_count": 144,
   "id": "0a95ad6c",
   "metadata": {
    "scrolled": true
   },
   "outputs": [
    {
     "data": {
      "text/plain": [
       "(1496338, 33)"
      ]
     },
     "execution_count": 144,
     "metadata": {},
     "output_type": "execute_result"
    }
   ],
   "source": [
    "# Final Shape\n",
    "final_df.shape"
   ]
  },
  {
   "cell_type": "markdown",
   "id": "2965c3de",
   "metadata": {},
   "source": [
    "### Polarity Distribuiton"
   ]
  },
  {
   "cell_type": "code",
   "execution_count": 135,
   "id": "b6307b46",
   "metadata": {},
   "outputs": [
    {
     "data": {
      "text/plain": [
       "0    755121\n",
       "1    741217\n",
       "Name: polarity, dtype: int64"
      ]
     },
     "execution_count": 135,
     "metadata": {},
     "output_type": "execute_result"
    }
   ],
   "source": [
    "final_df['polarity'].value_counts()"
   ]
  },
  {
   "cell_type": "code",
   "execution_count": 142,
   "id": "cba74d67",
   "metadata": {},
   "outputs": [
    {
     "data": {
      "image/png": "[encoded data removed]",
      "text/plain": [
       "<Figure size 432x288 with 1 Axes>"
      ]
     },
     "metadata": {},
     "output_type": "display_data"
    }
   ],
   "source": [
    "import matplotlib.pyplot as plt\n",
    "\n",
    "plt.pie(x=[755121, 741217],labels=['negative', 'positive'],autopct='%1.1f%%')\n",
    "plt.title('Sentiment')\n",
    "plt.axis('equal')\n",
    "plt.show()"
   ]
  },
  {
   "cell_type": "markdown",
   "id": "d9a32621",
   "metadata": {},
   "source": [
    "### Unique Words"
   ]
  },
  {
   "cell_type": "code",
   "execution_count": 152,
   "id": "28a95c15",
   "metadata": {},
   "outputs": [
    {
     "data": {
      "text/plain": [
       "6839"
      ]
     },
     "execution_count": 152,
     "metadata": {},
     "output_type": "execute_result"
    }
   ],
   "source": [
    "unique_words = set()\n",
    "for words in final_df['words']:\n",
    "    for w in words:\n",
    "        unique_words.add(w)\n",
    "len(unique_words)"
   ]
  },
  {
   "cell_type": "code",
   "execution_count": null,
   "id": "8cea18b1",
   "metadata": {},
   "outputs": [],
   "source": []
  }
 ],
 "metadata": {
  "celltoolbar": "Raw Cell Format",
  "kernelspec": {
   "display_name": "Python 3",
   "language": "python",
   "name": "python3"
  },
  "language_info": {
   "codemirror_mode": {
    "name": "ipython",
    "version": 3
   },
   "file_extension": ".py",
   "mimetype": "text/x-python",
   "name": "python",
   "nbconvert_exporter": "python",
   "pygments_lexer": "ipython3",
   "version": "3.8.8"
  }
 },
 "nbformat": 4,
 "nbformat_minor": 5
}
